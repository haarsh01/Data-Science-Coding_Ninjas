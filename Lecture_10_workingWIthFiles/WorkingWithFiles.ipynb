{
 "cells": [
  {
   "cell_type": "markdown",
   "metadata": {},
   "source": [
    "### Open and read text files"
   ]
  },
  {
   "cell_type": "code",
   "execution_count": 1,
   "metadata": {},
   "outputs": [],
   "source": [
    "# We can use Python's inbuilt function 'open'\n",
    "\n",
    "# Syntax -> open(file_name with complete/relative path, access mode)\n",
    "# Access mode is an optional argument, represents in what kind of mode you want to open the file\n",
    "# One mode can be 'r' -> represents read mode (it is the default value)\n",
    "# 'w' -> write mode, if we open file in this mode, we'll use the old content\n",
    "# 'a' -> append mode, retain content and add new information"
   ]
  }
 ],
 "metadata": {
  "kernelspec": {
   "display_name": "Python 3",
   "language": "python",
   "name": "python3"
  },
  "language_info": {
   "codemirror_mode": {
    "name": "ipython",
    "version": 3
   },
   "file_extension": ".py",
   "mimetype": "text/x-python",
   "name": "python",
   "nbconvert_exporter": "python",
   "pygments_lexer": "ipython3",
   "version": "3.6.8"
  }
 },
 "nbformat": 4,
 "nbformat_minor": 2
}
