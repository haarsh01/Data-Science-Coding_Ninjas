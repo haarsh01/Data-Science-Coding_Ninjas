{
 "cells": [
  {
   "cell_type": "code",
   "execution_count": 1,
   "metadata": {},
   "outputs": [],
   "source": [
    "import sqlite3\n",
    "\n",
    "db = sqlite3.connect('School.sqlite')\n",
    "\n",
    "cur = db.cursor()"
   ]
  },
  {
   "cell_type": "code",
   "execution_count": 2,
   "metadata": {},
   "outputs": [
    {
     "name": "stdout",
     "output_type": "stream",
     "text": [
      "(101, 'Aman', 20)\n",
      "(102, 'Amit', 21)\n",
      "(103, 'Mohit', 24)\n",
      "(104, 'Nikhil', 34)\n",
      "(105, 'Nidhi', 20)\n",
      "(106, 'Manisha', 21)\n",
      "(107, 'Ankush', 22)\n"
     ]
    }
   ],
   "source": [
    "# Extract data from table, method 1\n",
    "\n",
    "cur.execute(\"Select * from Student\")\n",
    "\n",
    "for row in cur:\n",
    "    print(row)"
   ]
  },
  {
   "cell_type": "code",
   "execution_count": 3,
   "metadata": {},
   "outputs": [
    {
     "data": {
      "text/plain": [
       "(101, 'Aman', 20)"
      ]
     },
     "execution_count": 3,
     "metadata": {},
     "output_type": "execute_result"
    }
   ],
   "source": [
    "# Extract data from table, method 2 fetchone\n",
    "\n",
    "cur.execute(\"Select * from Student\")\n",
    "cur.fetchone() # cur will point to next row after execution"
   ]
  },
  {
   "cell_type": "code",
   "execution_count": 4,
   "metadata": {},
   "outputs": [
    {
     "data": {
      "text/plain": [
       "[(101, 'Aman', 20),\n",
       " (102, 'Amit', 21),\n",
       " (103, 'Mohit', 24),\n",
       " (104, 'Nikhil', 34),\n",
       " (105, 'Nidhi', 20),\n",
       " (106, 'Manisha', 21),\n",
       " (107, 'Ankush', 22)]"
      ]
     },
     "execution_count": 4,
     "metadata": {},
     "output_type": "execute_result"
    }
   ],
   "source": [
    "# Extract data from table, method 3 fetchall\n",
    "\n",
    "cur.execute(\"Select * from Student\")\n",
    "cur.fetchall() # prints list of tuple"
   ]
  },
  {
   "cell_type": "code",
   "execution_count": 5,
   "metadata": {},
   "outputs": [
    {
     "data": {
      "text/plain": [
       "[(101, 'Aman', 20),\n",
       " (102, 'Amit', 21),\n",
       " (103, 'Mohit', 24),\n",
       " (104, 'Nikhil', 34),\n",
       " (105, 'Nidhi', 20)]"
      ]
     },
     "execution_count": 5,
     "metadata": {},
     "output_type": "execute_result"
    }
   ],
   "source": [
    "# Extract data from table, method 4 fetchmany\n",
    "\n",
    "cur.execute(\"Select * from Student\")\n",
    "cur.fetchmany(5) # prints list of 'n' tuple"
   ]
  },
  {
   "cell_type": "code",
   "execution_count": 6,
   "metadata": {},
   "outputs": [
    {
     "data": {
      "text/plain": [
       "[(103, 'Mohit', 24),\n",
       " (104, 'Nikhil', 34),\n",
       " (105, 'Nidhi', 20),\n",
       " (106, 'Manisha', 21),\n",
       " (107, 'Ankush', 22)]"
      ]
     },
     "execution_count": 6,
     "metadata": {},
     "output_type": "execute_result"
    }
   ],
   "source": [
    "cur.execute('Select * from Student where RollNumber >= 103')\n",
    "cur.fetchall()"
   ]
  },
  {
   "cell_type": "code",
   "execution_count": 9,
   "metadata": {
    "scrolled": true
   },
   "outputs": [
    {
     "data": {
      "text/plain": [
       "[(101, 'Aman', 20), (102, 'Amit', 21), (107, 'Ankush', 22)]"
      ]
     },
     "execution_count": 9,
     "metadata": {},
     "output_type": "execute_result"
    }
   ],
   "source": [
    "cur.execute(\"Select * from Student where Name like 'A%' \")\n",
    "cur.fetchall()"
   ]
  },
  {
   "cell_type": "code",
   "execution_count": null,
   "metadata": {},
   "outputs": [],
   "source": []
  }
 ],
 "metadata": {
  "kernelspec": {
   "display_name": "Python 3",
   "language": "python",
   "name": "python3"
  },
  "language_info": {
   "codemirror_mode": {
    "name": "ipython",
    "version": 3
   },
   "file_extension": ".py",
   "mimetype": "text/x-python",
   "name": "python",
   "nbconvert_exporter": "python",
   "pygments_lexer": "ipython3",
   "version": "3.6.8"
  }
 },
 "nbformat": 4,
 "nbformat_minor": 2
}
