{
 "cells": [
  {
   "cell_type": "code",
   "execution_count": 4,
   "metadata": {},
   "outputs": [],
   "source": [
    "import sqlite3\n",
    "\n",
    "db = sqlite3.connect('School.sqlite')\n",
    "\n",
    "cur = db.cursor()"
   ]
  },
  {
   "cell_type": "code",
   "execution_count": 5,
   "metadata": {},
   "outputs": [],
   "source": [
    "cur.execute('Insert into Student values(103, \"Mohit\", 24)')\n",
    "db.commit()"
   ]
  },
  {
   "cell_type": "code",
   "execution_count": 6,
   "metadata": {},
   "outputs": [],
   "source": [
    "rollNumber = 104\n",
    "Name = \"Nikhil\"\n",
    "age = 34\n",
    "\n",
    "cur.execute('Insert into Student values (?, ?, ?)', (rollNumber, Name, age))\n",
    "\n",
    "db.commit()"
   ]
  },
  {
   "cell_type": "code",
   "execution_count": 8,
   "metadata": {},
   "outputs": [],
   "source": [
    "# execute multiple statements\n",
    "\n",
    "values = [(105, \"Nidhi\", 20), (106, \"Manisha\", 21), (107, \"Ankush\", 22)]\n",
    "\n",
    "cur.executemany('Insert into Student values (?, ?, ?)', values)\n",
    "\n",
    "db.commit()"
   ]
  },
  {
   "cell_type": "markdown",
   "metadata": {},
   "source": [
    "### In case only one value require change\n",
    "\n",
    "```\n",
    "Make age 50 for student with roll number 103\n",
    "\n",
    "new_age = 50\n",
    "\n",
    "cur.execute(\"Update Student set Age = ? where RollNumber = 103\", (new_age, ))\n",
    "```"
   ]
  },
  {
   "cell_type": "code",
   "execution_count": null,
   "metadata": {},
   "outputs": [],
   "source": []
  }
 ],
 "metadata": {
  "kernelspec": {
   "display_name": "Python 3",
   "language": "python",
   "name": "python3"
  },
  "language_info": {
   "codemirror_mode": {
    "name": "ipython",
    "version": 3
   },
   "file_extension": ".py",
   "mimetype": "text/x-python",
   "name": "python",
   "nbconvert_exporter": "python",
   "pygments_lexer": "ipython3",
   "version": "3.6.8"
  }
 },
 "nbformat": 4,
 "nbformat_minor": 2
}
