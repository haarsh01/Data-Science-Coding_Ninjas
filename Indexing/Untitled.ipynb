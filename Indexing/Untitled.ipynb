{
 "cells": [
  {
   "cell_type": "code",
   "execution_count": 1,
   "id": "07a743d2",
   "metadata": {},
   "outputs": [
    {
     "data": {
      "text/plain": [
       "<sqlite3.Connection at 0x1681f1b2300>"
      ]
     },
     "execution_count": 1,
     "metadata": {},
     "output_type": "execute_result"
    }
   ],
   "source": [
    "import sqlite3\n",
    "db = sqlite3.connect('Employee_Detail.sqlite')\n",
    "db"
   ]
  },
  {
   "cell_type": "code",
   "execution_count": 2,
   "id": "34856f61",
   "metadata": {},
   "outputs": [
    {
     "data": {
      "text/plain": [
       "<sqlite3.Cursor at 0x1681f160ab0>"
      ]
     },
     "execution_count": 2,
     "metadata": {},
     "output_type": "execute_result"
    }
   ],
   "source": [
    "cur = db.cursor()\n",
    "cur"
   ]
  },
  {
   "cell_type": "code",
   "execution_count": 3,
   "id": "dbf08669",
   "metadata": {},
   "outputs": [
    {
     "data": {
      "text/plain": [
       "<sqlite3.Cursor at 0x1681f160ab0>"
      ]
     },
     "execution_count": 3,
     "metadata": {},
     "output_type": "execute_result"
    }
   ],
   "source": [
    "sql_query = 'create table Employee_Detail(Employee_ID int primary key, Name text, Age int, Department text, Salary int)'\n",
    "cur.execute(sql_query)"
   ]
  },
  {
   "cell_type": "code",
   "execution_count": 4,
   "id": "be2bc141",
   "metadata": {},
   "outputs": [],
   "source": [
    "values = [(101, 'Aadarsh', 25, 'Marketing', 50000),(102, 'Aarti', 27, 'Operations', 60000),(103, 'Siddharth', 25, 'Finance', 85000)]\n",
    "cur.executemany('Insert into Employee_Detail values (?,?,?,?,?)', values)\n",
    "db.commit()"
   ]
  },
  {
   "cell_type": "code",
   "execution_count": 5,
   "id": "d3df463a",
   "metadata": {},
   "outputs": [],
   "source": [
    "values = [(104, 'Aman', 24, 'Human Resource', 75000),(105, 'Amit', 30, 'Marketing', 50000),(106, 'Shivansh', 26, 'IT', 90000)]\n",
    "cur.executemany('Insert into Employee_Detail values (?,?,?,?,?)', values)\n",
    "db.commit()"
   ]
  },
  {
   "cell_type": "code",
   "execution_count": 6,
   "id": "f1932917",
   "metadata": {},
   "outputs": [],
   "source": [
    "values = [(107, 'Vaibhav', 23, 'Finance', 85000),(108, 'Himanshu', 26, 'IT', 90000),(109, 'Raman', 25, 'Operations', 60000)]\n",
    "cur.executemany('Insert into Employee_Detail values (?,?,?,?,?)', values)\n",
    "db.commit()"
   ]
  },
  {
   "cell_type": "code",
   "execution_count": 7,
   "id": "c91213cc",
   "metadata": {},
   "outputs": [],
   "source": [
    "values = [(110, 'Kunal', 26, 'Marketing', 50000),(111, 'Adhira', 29, 'Human Resource', 75000),(112, 'Tanya', 24, 'Marketing', 50000)]\n",
    "cur.executemany('Insert into Employee_Detail values (?,?,?,?,?)', values)\n",
    "db.commit()"
   ]
  },
  {
   "cell_type": "code",
   "execution_count": 8,
   "id": "f26e0d77",
   "metadata": {},
   "outputs": [
    {
     "name": "stdout",
     "output_type": "stream",
     "text": [
      "Done\n"
     ]
    }
   ],
   "source": [
    "db.close()\n",
    "print('Done')"
   ]
  },
  {
   "cell_type": "code",
   "execution_count": 17,
   "id": "7344860e",
   "metadata": {},
   "outputs": [],
   "source": [
    "import sqlite3\n",
    "db =sqlite3.connect('Employee_Detail.sqlite')\n",
    "cur = db.cursor()"
   ]
  },
  {
   "cell_type": "code",
   "execution_count": 19,
   "id": "94a551d3",
   "metadata": {},
   "outputs": [
    {
     "name": "stdout",
     "output_type": "stream",
     "text": [
      "103\n",
      "107\n"
     ]
    }
   ],
   "source": [
    "cur.execute('select * from Employee_Detail where Department = \"Finance\"')\n",
    "ans = cur.fetchall()\n",
    "for i in ans:\n",
    "    print(i[0])\n",
    "db.close()"
   ]
  },
  {
   "cell_type": "code",
   "execution_count": 20,
   "id": "41f00053",
   "metadata": {},
   "outputs": [],
   "source": [
    "import sqlite3\n",
    "db = sqlite3.connect('Employee_Detail.sqlite')\n",
    "cur = db.cursor()\n"
   ]
  },
  {
   "cell_type": "code",
   "execution_count": 21,
   "id": "3d44c8e2",
   "metadata": {},
   "outputs": [
    {
     "name": "stdout",
     "output_type": "stream",
     "text": [
      "Finance 2\n",
      "Human Resource 2\n",
      "IT 2\n",
      "Marketing 4\n",
      "Operations 2\n"
     ]
    }
   ],
   "source": [
    "cur.execute('select Department, count(*) from Employee_Detail group by Department')\n",
    "ans = cur.fetchall()\n",
    "for i in ans:\n",
    "    print(i[0], i[1])\n",
    "db.close()"
   ]
  },
  {
   "cell_type": "code",
   "execution_count": 23,
   "id": "5a2493d6",
   "metadata": {},
   "outputs": [],
   "source": [
    "import pandas as pd\n",
    "import sqlite3\n",
    "db = sqlite3.connect('IMDB.sqlite')"
   ]
  },
  {
   "cell_type": "code",
   "execution_count": 27,
   "id": "a5801335",
   "metadata": {},
   "outputs": [
    {
     "name": "stdout",
     "output_type": "stream",
     "text": [
      "Drama 77\n",
      "Adventure 43\n",
      "Action 33\n",
      "Comedy 31\n",
      "Biography 21\n",
      "Sci-Fi 18\n",
      "Thriller 14\n",
      "Animation 13\n",
      "Romance 13\n",
      "Crime 11\n",
      "Mystery 7\n",
      "Fantasy 7\n",
      "History 6\n",
      "Sport 3\n",
      "Music 3\n",
      "Family 3\n",
      "Horror 2\n",
      "War 2\n",
      "Western 2\n",
      "Musical 1\n"
     ]
    }
   ],
   "source": [
    "data = pd.read_sql_query('select * from genre', db)\n",
    "data = data[data['genre']!='']\n",
    "data = data['genre'].value_counts()\n",
    "for i in range(len(data)):\n",
    "    print(data.index[i], data.values[i])"
   ]
  },
  {
   "cell_type": "code",
   "execution_count": 28,
   "id": "ce669285",
   "metadata": {},
   "outputs": [],
   "source": [
    "import pandas as pd\n",
    "import sqlite3\n",
    "db = sqlite3.connect('IMDB.sqlite')"
   ]
  },
  {
   "cell_type": "code",
   "execution_count": 33,
   "id": "986def6d",
   "metadata": {},
   "outputs": [
    {
     "name": "stdout",
     "output_type": "stream",
     "text": [
      "8.1\n"
     ]
    }
   ],
   "source": [
    "data = pd.read_sql_query('select * from earning inner join IMDB on earning.Movie_id=IMDB.Movie_id', db)\n",
    "data[\"Total\"] = data[\"Domestic\"] + data[\"Worldwide\"]\n",
    "max1 = max(data[\"Total\"])\n",
    "data = data[data['Total']==max1]\n",
    "print(data.values[0][5])\n"
   ]
  },
  {
   "cell_type": "code",
   "execution_count": 34,
   "id": "a99b3582",
   "metadata": {},
   "outputs": [],
   "source": [
    "import pandas as pd\n",
    "import sqlite3\n",
    "db = sqlite3.connect('IMDB.sqlite')"
   ]
  },
  {
   "cell_type": "code",
   "execution_count": 38,
   "id": "6f215982",
   "metadata": {},
   "outputs": [
    {
     "name": "stdout",
     "output_type": "stream",
     "text": [
      "Inception (2010) 8.8\n"
     ]
    }
   ],
   "source": [
    "data = pd.read_sql_query('select * from IMDB', db)\n",
    "max1 = max(data['TotalVotes'])\n",
    "data = data[data['TotalVotes']==max1]\n",
    "print(data['Title'].values[0], data['Rating'].values[0])"
   ]
  },
  {
   "cell_type": "code",
   "execution_count": null,
   "id": "ddb9b78e",
   "metadata": {},
   "outputs": [],
   "source": []
  }
 ],
 "metadata": {
  "kernelspec": {
   "display_name": "Python 3",
   "language": "python",
   "name": "python3"
  },
  "language_info": {
   "codemirror_mode": {
    "name": "ipython",
    "version": 3
   },
   "file_extension": ".py",
   "mimetype": "text/x-python",
   "name": "python",
   "nbconvert_exporter": "python",
   "pygments_lexer": "ipython3",
   "version": "3.8.8"
  }
 },
 "nbformat": 4,
 "nbformat_minor": 5
}
