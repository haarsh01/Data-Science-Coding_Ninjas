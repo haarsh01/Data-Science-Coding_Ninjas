{
 "cells": [
  {
   "cell_type": "markdown",
   "metadata": {},
   "source": [
    "# Functions"
   ]
  },
  {
   "cell_type": "code",
   "execution_count": 1,
   "metadata": {},
   "outputs": [
    {
     "name": "stdout",
     "output_type": "stream",
     "text": [
      "5\n",
      "2\n",
      "10\n"
     ]
    }
   ],
   "source": [
    "# Let us make a program and through it try to understand why we need functions\n",
    "\n",
    "#Program to find nCr\n",
    "\n",
    "n = int(input())\n",
    "r = int(input())\n",
    "\n",
    "n_fact = 1\n",
    "\n",
    "for i in range(1, n + 1):\n",
    "    n_fact = n_fact*i\n",
    "\n",
    "r_fact = 1\n",
    "\n",
    "for i in range(1, r + 1):\n",
    "    r_fact = r_fact*i\n",
    "    \n",
    "n_r_fact = 1\n",
    "\n",
    "for i in range(1, n - r + 1):\n",
    "    n_r_fact = n_r_fact*i\n",
    "    \n",
    "ans = n_fact//(r_fact * n_r_fact)\n",
    "\n",
    "print (ans)\n",
    "\n",
    "# In the above code, we have repeated the almost the same code 3 times.\n",
    "# We would like if we had return some method fact which asks n and computes n!"
   ]
  },
  {
   "cell_type": "code",
   "execution_count": 2,
   "metadata": {},
   "outputs": [
    {
     "data": {
      "text/plain": [
       "720"
      ]
     },
     "execution_count": 2,
     "metadata": {},
     "output_type": "execute_result"
    }
   ],
   "source": [
    "# Functions allow you to create block of code which you can call from anywhere\n",
    "\n",
    "# Syntax for function: def fact(n)\n",
    "\n",
    "def fact(n):\n",
    "    n_fact = 1\n",
    "    \n",
    "    for i in range(1, n + 1):\n",
    "        n_fact = n_fact*i\n",
    "    \n",
    "    return n_fact\n",
    "\n",
    "fact(6)"
   ]
  },
  {
   "cell_type": "code",
   "execution_count": 3,
   "metadata": {},
   "outputs": [
    {
     "data": {
      "text/plain": [
       "40320"
      ]
     },
     "execution_count": 3,
     "metadata": {},
     "output_type": "execute_result"
    }
   ],
   "source": [
    "# You can also store the value which was returned by function\n",
    "\n",
    "a = fact(8)\n",
    "a"
   ]
  },
  {
   "cell_type": "code",
   "execution_count": 4,
   "metadata": {},
   "outputs": [
    {
     "name": "stdout",
     "output_type": "stream",
     "text": [
      "10\n",
      "3\n",
      "120\n"
     ]
    }
   ],
   "source": [
    "n = int(input())\n",
    "r = int(input())\n",
    "n_fact = fact(n)\n",
    "r_fact = fact(r)\n",
    "n_r_fact = fact(n-r)\n",
    "ans = n_fact//(r_fact * n_r_fact)\n",
    "print(ans)"
   ]
  },
  {
   "cell_type": "code",
   "execution_count": 5,
   "metadata": {},
   "outputs": [],
   "source": [
    "# Another place to use functions are Readability, Testability"
   ]
  },
  {
   "cell_type": "code",
   "execution_count": 6,
   "metadata": {},
   "outputs": [],
   "source": [
    "# Function to check if it is prime\n",
    "\n",
    "def isPrime(n):\n",
    "    for d in range(2, n):\n",
    "        if (n % d == 0):\n",
    "            break\n",
    "        \n",
    "    else:\n",
    "        return True\n",
    "    \n",
    "    return False"
   ]
  },
  {
   "cell_type": "code",
   "execution_count": 7,
   "metadata": {},
   "outputs": [
    {
     "data": {
      "text/plain": [
       "False"
      ]
     },
     "execution_count": 7,
     "metadata": {},
     "output_type": "execute_result"
    }
   ],
   "source": [
    "isPrime(10)"
   ]
  },
  {
   "cell_type": "code",
   "execution_count": 8,
   "metadata": {},
   "outputs": [
    {
     "data": {
      "text/plain": [
       "True"
      ]
     },
     "execution_count": 8,
     "metadata": {},
     "output_type": "execute_result"
    }
   ],
   "source": [
    "isPrime(31)"
   ]
  },
  {
   "cell_type": "code",
   "execution_count": 9,
   "metadata": {},
   "outputs": [],
   "source": [
    "# Print all prime numbers from 2 to n\n",
    "\n",
    "def printPrime(n):\n",
    "    for k in range(2, n + 1):\n",
    "        # check if k is prime and in case it is prime print k\n",
    "        is_k_prime = isPrime(k)\n",
    "        if(is_k_prime):\n",
    "            print(k)"
   ]
  },
  {
   "cell_type": "code",
   "execution_count": 10,
   "metadata": {},
   "outputs": [
    {
     "name": "stdout",
     "output_type": "stream",
     "text": [
      "2\n",
      "3\n",
      "5\n",
      "7\n",
      "11\n",
      "13\n",
      "17\n",
      "19\n"
     ]
    }
   ],
   "source": [
    "printPrime(20)"
   ]
  },
  {
   "cell_type": "code",
   "execution_count": 11,
   "metadata": {},
   "outputs": [],
   "source": [
    "# Function to calculate nCr\n",
    "\n",
    "def ncr(n, r):\n",
    "    n_fact = fact(n)\n",
    "    r_fact = fact(r)\n",
    "    n_r_fact = fact(n-r)\n",
    "    ans = n_fact//(r_fact * n_r_fact)\n",
    "    return ans\n",
    "    "
   ]
  },
  {
   "cell_type": "code",
   "execution_count": 12,
   "metadata": {},
   "outputs": [
    {
     "data": {
      "text/plain": [
       "3003"
      ]
     },
     "execution_count": 12,
     "metadata": {},
     "output_type": "execute_result"
    }
   ],
   "source": [
    "ncr(15, 5)"
   ]
  },
  {
   "cell_type": "code",
   "execution_count": 13,
   "metadata": {},
   "outputs": [
    {
     "data": {
      "text/plain": [
       "10"
      ]
     },
     "execution_count": 13,
     "metadata": {},
     "output_type": "execute_result"
    }
   ],
   "source": [
    "ncr(5, 3)"
   ]
  },
  {
   "cell_type": "markdown",
   "metadata": {},
   "source": [
    "#### A call stack is a stack data structure that stores information about the active subroutines of a  program."
   ]
  },
  {
   "cell_type": "code",
   "execution_count": 14,
   "metadata": {},
   "outputs": [
    {
     "name": "stdout",
     "output_type": "stream",
     "text": [
      "10\n"
     ]
    }
   ],
   "source": [
    "# How does lists work along with functions\n",
    "def increment(i):\n",
    "    i = i + 1\n",
    "    \n",
    "k = 10\n",
    "increment(k)\n",
    "print(k)"
   ]
  },
  {
   "cell_type": "code",
   "execution_count": 15,
   "metadata": {},
   "outputs": [
    {
     "name": "stdout",
     "output_type": "stream",
     "text": [
      "ids when k and i equal 10969088 10969088\n",
      "ids when k and i are different 10969088 10969120\n",
      "10\n"
     ]
    }
   ],
   "source": [
    "# In above code, k has not changed.\n",
    "# Because as soon as i = i + 1, i starts storing address of 11 (10+1)\n",
    "# Lets check ids of k and i at different stages\n",
    "\n",
    "# How does lists work along with functions\n",
    "def increment(i):\n",
    "    print (\"ids when k and i equal\", id(k), id(i))\n",
    "    i = i + 1\n",
    "    print (\"ids when k and i are different\", id(k), id(i))\n",
    "    \n",
    "k = 10\n",
    "increment(k)\n",
    "print(k)"
   ]
  },
  {
   "cell_type": "code",
   "execution_count": 16,
   "metadata": {},
   "outputs": [
    {
     "name": "stdout",
     "output_type": "stream",
     "text": [
      "[2, 2, 3]\n"
     ]
    }
   ],
   "source": [
    "#Example 1: How function takes value in case of a list\n",
    "\n",
    "def increment_list_first(l):\n",
    "    l[0] = l[0] + 1\n",
    "a = [1, 2, 3]\n",
    "increment_list_first(a)\n",
    "print(a)"
   ]
  },
  {
   "cell_type": "code",
   "execution_count": 17,
   "metadata": {},
   "outputs": [],
   "source": [
    "# In the above example the list got modified\n",
    "# When you passed a in increment_list_first() function, both a, l pointed to same location\n",
    "# ie address to [1, 2, 3]"
   ]
  },
  {
   "cell_type": "code",
   "execution_count": 18,
   "metadata": {},
   "outputs": [
    {
     "name": "stdout",
     "output_type": "stream",
     "text": [
      "ids when a and l before modification in l 140236392259784 140236392259784\n",
      "ids when a and l after modification in l 140236392259784 140236392260104\n",
      "[1, 2, 3]\n"
     ]
    }
   ],
   "source": [
    "# Example 2: Let us try changes the list itself\n",
    "\n",
    "def increment_list_first(l):\n",
    "    print (\"ids when a and l before modification in l\", id(a), id(l))   \n",
    "    l = [2]\n",
    "    print (\"ids when a and l after modification in l\", id(a), id(l))\n",
    "a = [1, 2, 3]\n",
    "increment_list_first(a)\n",
    "print(a)"
   ]
  },
  {
   "cell_type": "code",
   "execution_count": 19,
   "metadata": {},
   "outputs": [],
   "source": [
    "# Above we can see that we said, \"forgot about a, point to a new list now\"\n",
    "# If you change variable to point somewhere else we cannot modify the data "
   ]
  },
  {
   "cell_type": "code",
   "execution_count": 20,
   "metadata": {},
   "outputs": [
    {
     "data": {
      "text/plain": [
       "'def'"
      ]
     },
     "execution_count": 20,
     "metadata": {},
     "output_type": "execute_result"
    }
   ],
   "source": [
    "# Strings are little different, cause' remember immutable?\n",
    "# You cannot write function like Example 1 for strings\n",
    "\n",
    "# Below function changing its own variable, not string\n",
    "\n",
    "def change_str(b):\n",
    "    b = \"abc\"\n",
    "\n",
    "a = \"def\"\n",
    "change_str(a)\n",
    "a"
   ]
  },
  {
   "cell_type": "code",
   "execution_count": 21,
   "metadata": {},
   "outputs": [
    {
     "data": {
      "text/plain": [
       "[10, 9, 8, 7, 6, 5, 4, 3, 2, 1]"
      ]
     },
     "execution_count": 21,
     "metadata": {},
     "output_type": "execute_result"
    }
   ],
   "source": [
    "# Returning List from a function\n",
    "\n",
    "def create_rev_array(n):\n",
    "    l = []\n",
    "    for i in range(n, 0, -1):\n",
    "        l.append(i)\n",
    "    return l\n",
    "\n",
    "l = create_rev_array(10)\n",
    "l"
   ]
  },
  {
   "cell_type": "code",
   "execution_count": 22,
   "metadata": {},
   "outputs": [
    {
     "name": "stdout",
     "output_type": "stream",
     "text": [
      "[4, 3, 6, 5]\n"
     ]
    }
   ],
   "source": [
    "# Swap Alternate\n",
    "\n",
    "def swap_consecutive(l):\n",
    "    i = 0\n",
    "    while i+1 < len(l):\n",
    "        l[i], l[i+1] = l[i+1], l[i]\n",
    "        i = i + 2\n",
    "    return l\n",
    "\n",
    "print(swap_consecutive([3,4,5,6])) #even numbered"
   ]
  },
  {
   "cell_type": "code",
   "execution_count": 23,
   "metadata": {},
   "outputs": [
    {
     "name": "stdout",
     "output_type": "stream",
     "text": [
      "[4, 3, 5]\n"
     ]
    }
   ],
   "source": [
    "print(swap_consecutive([3,4,5])) #odd numbered"
   ]
  },
  {
   "cell_type": "markdown",
   "metadata": {},
   "source": [
    "## Scope of variable"
   ]
  },
  {
   "cell_type": "markdown",
   "metadata": {},
   "source": [
    "### Broadly there are two types of variable in Python\n",
    "\n",
    "* Local variables: Defined inside a function\n",
    "* Global variables: Defined outside any function"
   ]
  },
  {
   "cell_type": "code",
   "execution_count": 24,
   "metadata": {},
   "outputs": [
    {
     "name": "stdout",
     "output_type": "stream",
     "text": [
      "10\n"
     ]
    }
   ],
   "source": [
    "a1 = 10 # global variable\n",
    "\n",
    "def f1():\n",
    "    b1 = 12 # local variable\n",
    "    \n",
    "    \n",
    "print(a1)\n",
    "# print(b1) throws error - name 'b1' is not defined\n",
    "# As the function is local and avaiable only to f1()"
   ]
  },
  {
   "cell_type": "code",
   "execution_count": 25,
   "metadata": {},
   "outputs": [
    {
     "name": "stdout",
     "output_type": "stream",
     "text": [
      "10\n",
      "12\n"
     ]
    }
   ],
   "source": [
    "a1 = 10 # global variable\n",
    "\n",
    "def f2():\n",
    "    b1 = 12 # local variable\n",
    "    print (b1)\n",
    "    \n",
    "print(a1)\n",
    "f2()\n",
    "# print(b1) throws error - name 'b1' is not defined"
   ]
  },
  {
   "cell_type": "code",
   "execution_count": 26,
   "metadata": {},
   "outputs": [
    {
     "name": "stdout",
     "output_type": "stream",
     "text": [
      "10\n",
      "10\n",
      "12\n"
     ]
    }
   ],
   "source": [
    "# You can access any global variable defined before the function call\n",
    "\n",
    "a1 = 10 # global variable\n",
    "\n",
    "def f3():\n",
    "    b1 = 12 # local variable\n",
    "    print(a1) # you can print global variable inside a function\n",
    "    print (b1)\n",
    "    \n",
    "print(a1) # a1 must be defined before calling the function\n",
    "# If you want to use a1 inside the function\n",
    "f3()"
   ]
  },
  {
   "cell_type": "code",
   "execution_count": 27,
   "metadata": {},
   "outputs": [
    {
     "name": "stdout",
     "output_type": "stream",
     "text": [
      "13 10969184\n",
      "12 10969152\n",
      "13 10969184\n"
     ]
    }
   ],
   "source": [
    "a4 = 13\n",
    "\n",
    "def f4():\n",
    "    a4 = 12\n",
    "    print(a4, id(a4))\n",
    "\n",
    "print(a4, id(a4))\n",
    "f4()\n",
    "print(a4, id(a4))\n",
    "\n",
    "# If you want to print the value as is, there will be no problem\n",
    "# But when you try to change values,\n",
    "# Python assumes you want to create a local variabe."
   ]
  },
  {
   "cell_type": "code",
   "execution_count": 28,
   "metadata": {},
   "outputs": [],
   "source": [
    "# In case you want to use global variable just write global before its name"
   ]
  },
  {
   "cell_type": "code",
   "execution_count": 29,
   "metadata": {},
   "outputs": [
    {
     "name": "stdout",
     "output_type": "stream",
     "text": [
      "13 10969184\n",
      "12 10969152\n",
      "12 10969152\n"
     ]
    }
   ],
   "source": [
    "a4 = 13\n",
    "\n",
    "def f4():\n",
    "    global a4\n",
    "    a4 = 12\n",
    "    print(a4, id(a4))\n",
    "\n",
    "print(a4, id(a4))\n",
    "f4()\n",
    "print(a4, id(a4))"
   ]
  },
  {
   "cell_type": "code",
   "execution_count": 30,
   "metadata": {},
   "outputs": [
    {
     "name": "stdout",
     "output_type": "stream",
     "text": [
      "10\n"
     ]
    }
   ],
   "source": [
    "# Only way to get the local varables of a function is by returning those variables\n",
    "\n",
    "def f():\n",
    "    b = 10\n",
    "    return b\n",
    "\n",
    "x = f()\n",
    "print(x)"
   ]
  },
  {
   "cell_type": "code",
   "execution_count": 31,
   "metadata": {},
   "outputs": [
    {
     "name": "stdout",
     "output_type": "stream",
     "text": [
      "abcdabc\n"
     ]
    }
   ],
   "source": [
    "# Default Arguments in Python\n",
    "\n",
    "# We were able to call print in multiple ways\n",
    "\n",
    "print(\"abcd\", end=\"\")\n",
    "print(\"abc\")"
   ]
  },
  {
   "cell_type": "code",
   "execution_count": 32,
   "metadata": {},
   "outputs": [
    {
     "name": "stdout",
     "output_type": "stream",
     "text": [
      "7\n"
     ]
    }
   ],
   "source": [
    "def f(n):\n",
    "    print(n)\n",
    "    \n",
    "f(7) # f(n) requires one argument, compiler will throw error if you pass\n",
    "# less than 1 or more than one arguments\n",
    "\n",
    "#But print was able to accept both 1 argument and 2 arguments"
   ]
  },
  {
   "cell_type": "code",
   "execution_count": 33,
   "metadata": {},
   "outputs": [
    {
     "name": "stdout",
     "output_type": "stream",
     "text": [
      "c is  4\n",
      "a + b + c is  9\n",
      "c is  0\n",
      "a + b is 5\n"
     ]
    }
   ],
   "source": [
    "def sum(a, b):\n",
    "    return a + b\n",
    "\n",
    "# we wish to have capability to pass 3 arguments also in the above function\n",
    "\n",
    "# Python allows you to have a default argument\n",
    "\n",
    "def sum1(a, b, c = 0):\n",
    "    print(\"c is \", c)\n",
    "    return a + b + c\n",
    "\n",
    "print(\"a + b + c is \", sum1(2, 3, 4)) # sum with 3 arguments passed for c\n",
    "print(\"a + b is\", sum1(2,3)) # sum with 2 arguments (c hence by default get understood as 3 by function)"
   ]
  },
  {
   "cell_type": "code",
   "execution_count": 34,
   "metadata": {},
   "outputs": [],
   "source": [
    "# We cannot set a = 0 below (non-default argument cannot follow default argument)\n",
    "\n",
    "# meaning: Put all non-default argument first then all default\n",
    "\n",
    "def f(a, b, c):\n",
    "    return a + b + c"
   ]
  },
  {
   "cell_type": "code",
   "execution_count": 35,
   "metadata": {},
   "outputs": [
    {
     "name": "stdout",
     "output_type": "stream",
     "text": [
      "a + b + c + d is 14\n",
      "a + b + c is 10\n",
      "a + b is 8\n"
     ]
    }
   ],
   "source": [
    "def f1(a, b, c = 2, d = 1):\n",
    "    return a + b + c + d\n",
    "\n",
    "print(\"a + b + c + d is\", f1(2, 3, 4, 5))\n",
    "print(\"a + b + c is\", f1(2, 3, 4))\n",
    "print(\"a + b is\", f1(2,3))\n"
   ]
  },
  {
   "cell_type": "code",
   "execution_count": 36,
   "metadata": {},
   "outputs": [
    {
     "name": "stdout",
     "output_type": "stream",
     "text": [
      "50\n"
     ]
    }
   ],
   "source": [
    "# If you mention specifically the value of non default argument, you\n",
    "# dont have to maintain the order\n",
    "\n",
    "def f1(a, b, c = 2, d = 1):\n",
    "    return a + b + c + d\n",
    "\n",
    "print(f1(d = 32, b = 12, a = 4))"
   ]
  }
 ],
 "metadata": {
  "kernelspec": {
   "display_name": "Python 3",
   "language": "python",
   "name": "python3"
  },
  "language_info": {
   "codemirror_mode": {
    "name": "ipython",
    "version": 3
   },
   "file_extension": ".py",
   "mimetype": "text/x-python",
   "name": "python",
   "nbconvert_exporter": "python",
   "pygments_lexer": "ipython3",
   "version": "3.6.8"
  }
 },
 "nbformat": 4,
 "nbformat_minor": 2
}
