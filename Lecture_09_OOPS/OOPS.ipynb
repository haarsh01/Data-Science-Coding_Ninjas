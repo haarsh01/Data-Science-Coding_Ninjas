{
 "cells": [
  {
   "cell_type": "code",
   "execution_count": 1,
   "metadata": {},
   "outputs": [],
   "source": [
    "# Every object has two characterists\n",
    "# First it can have property associated with it and next it can have some behavior associated with it\n",
    "\n",
    "# Properties -> Atrributes\n",
    "# Behavior -> Methods"
   ]
  },
  {
   "cell_type": "code",
   "execution_count": 2,
   "metadata": {},
   "outputs": [
    {
     "name": "stdout",
     "output_type": "stream",
     "text": [
      "<class 'int'>\n"
     ]
    }
   ],
   "source": [
    "a = 10\n",
    "print(type(a))"
   ]
  },
  {
   "cell_type": "code",
   "execution_count": 3,
   "metadata": {},
   "outputs": [
    {
     "name": "stdout",
     "output_type": "stream",
     "text": [
      "<class 'list'>\n"
     ]
    }
   ],
   "source": [
    "l = [1, 2, 3]\n",
    "print(type(l))"
   ]
  },
  {
   "cell_type": "code",
   "execution_count": 4,
   "metadata": {},
   "outputs": [],
   "source": [
    "# User defined class\n",
    "\n",
    "class Student:\n",
    "    pass"
   ]
  },
  {
   "cell_type": "code",
   "execution_count": 5,
   "metadata": {},
   "outputs": [],
   "source": [
    "# create 3 objects\n",
    "\n",
    "s1 = Student()\n",
    "s2 = Student()\n",
    "s3 = Student()"
   ]
  },
  {
   "cell_type": "markdown",
   "metadata": {},
   "source": [
    "## Types of Attribute\n",
    "\n",
    "### Instance attributes\n",
    "\n",
    "* Object attribute, that is these attributes are bound to a specific object. Eg: Name, Student, Age for the Student example.\n",
    "\n",
    "### Class attributes\n",
    "\n",
    "* Attribute bound to class. Eg: Class teacher name, total number of students.\n"
   ]
  },
  {
   "cell_type": "code",
   "execution_count": 6,
   "metadata": {},
   "outputs": [],
   "source": [
    "# Instance attributes\n",
    "# Objects can have different instance attributes\n",
    "# Adding Attributes: s1 -> Name, Age; s2 -> Roll no; s3 -> Age will not throw error\n",
    "\n",
    "s1.name = \"Mohit\" # This creates new attribute \"name\" to s1\n",
    "s1.age = 20"
   ]
  },
  {
   "cell_type": "code",
   "execution_count": 7,
   "metadata": {},
   "outputs": [],
   "source": [
    "s2.rollNumber = 101"
   ]
  },
  {
   "cell_type": "code",
   "execution_count": 8,
   "metadata": {},
   "outputs": [],
   "source": [
    "s3.age = 21"
   ]
  },
  {
   "cell_type": "code",
   "execution_count": 9,
   "metadata": {},
   "outputs": [],
   "source": [
    "s3.age = 34"
   ]
  },
  {
   "cell_type": "code",
   "execution_count": 10,
   "metadata": {},
   "outputs": [],
   "source": [
    "# In Python each and every instance of class (ie object) possesses a dictionary which holds list of attributes along with value\n",
    "\n",
    "# Syntax to access the dictionary: objName.__dict__"
   ]
  },
  {
   "cell_type": "code",
   "execution_count": 11,
   "metadata": {},
   "outputs": [
    {
     "name": "stdout",
     "output_type": "stream",
     "text": [
      "{'name': 'Mohit', 'age': 20}\n",
      "{'rollNumber': 101}\n",
      "{'age': 34}\n"
     ]
    }
   ],
   "source": [
    "print(s1.__dict__)\n",
    "print(s2.__dict__)\n",
    "print(s3.__dict__)"
   ]
  },
  {
   "cell_type": "code",
   "execution_count": 12,
   "metadata": {},
   "outputs": [
    {
     "name": "stdout",
     "output_type": "stream",
     "text": [
      "{}\n"
     ]
    }
   ],
   "source": [
    "s4 = Student()\n",
    "print(s4.__dict__)"
   ]
  },
  {
   "cell_type": "code",
   "execution_count": 13,
   "metadata": {},
   "outputs": [
    {
     "name": "stdout",
     "output_type": "stream",
     "text": [
      "Mohit\n"
     ]
    }
   ],
   "source": [
    "print(s1.name)"
   ]
  },
  {
   "cell_type": "code",
   "execution_count": 14,
   "metadata": {},
   "outputs": [
    {
     "name": "stdout",
     "output_type": "stream",
     "text": [
      "True\n"
     ]
    }
   ],
   "source": [
    "# Inbuilt functions\n",
    "\n",
    "# hasattr(objectName, attributeToCheck)\n",
    "\n",
    "print(hasattr(s1, 'name'))"
   ]
  },
  {
   "cell_type": "code",
   "execution_count": 15,
   "metadata": {},
   "outputs": [
    {
     "name": "stdout",
     "output_type": "stream",
     "text": [
      "False\n"
     ]
    }
   ],
   "source": [
    "print(hasattr(s2, 'name'))"
   ]
  },
  {
   "cell_type": "code",
   "execution_count": 16,
   "metadata": {},
   "outputs": [],
   "source": [
    "# setattr(objectName, attribute, valuetoSet)\n",
    "# delattr(objectName, attributeToDelete)\n",
    "# getattr(objectName, attributeTovalueToGet)\n",
    "# getattr(objectName, attributeTovalueToGet, defaultValue) # In case attribute is not present"
   ]
  },
  {
   "cell_type": "code",
   "execution_count": 17,
   "metadata": {},
   "outputs": [
    {
     "name": "stdout",
     "output_type": "stream",
     "text": [
      "Mohit\n",
      "No such attribute\n"
     ]
    }
   ],
   "source": [
    "print(getattr(s1, 'name'))\n",
    "print(getattr(s2, 'name','No such attribute')) # Had we passed no defaultValue, we'd have gotten error"
   ]
  },
  {
   "cell_type": "code",
   "execution_count": 18,
   "metadata": {},
   "outputs": [
    {
     "name": "stdout",
     "output_type": "stream",
     "text": [
      "{'age': 20}\n"
     ]
    }
   ],
   "source": [
    "delattr(s1, 'name')\n",
    "print(s1.__dict__)"
   ]
  },
  {
   "cell_type": "code",
   "execution_count": 19,
   "metadata": {},
   "outputs": [
    {
     "name": "stdout",
     "output_type": "stream",
     "text": [
      "{'__module__': '__main__', '__dict__': <attribute '__dict__' of 'Student' objects>, '__weakref__': <attribute '__weakref__' of 'Student' objects>, '__doc__': None, 'totalStudents': 20}\n"
     ]
    }
   ],
   "source": [
    "# Class attributes\n",
    "# Syntax like we used to set instance attribute\n",
    "\n",
    "Student.totalStudents = 20\n",
    "print(Student.__dict__)"
   ]
  },
  {
   "cell_type": "code",
   "execution_count": 20,
   "metadata": {},
   "outputs": [
    {
     "name": "stdout",
     "output_type": "stream",
     "text": [
      "{'__module__': '__main__', 'totalStudents': 20, 'classTeacherName': 'Komal', '__dict__': <attribute '__dict__' of 'Student' objects>, '__weakref__': <attribute '__weakref__' of 'Student' objects>, '__doc__': None}\n"
     ]
    }
   ],
   "source": [
    "# Another way of adding class attribute\n",
    "\n",
    "class Student:\n",
    "    ## Class attributes\n",
    "    totalStudents = 20\n",
    "    classTeacherName = 'Komal'\n",
    "    \n",
    "s1 = Student()\n",
    "s2 = Student()\n",
    "print(Student.__dict__)"
   ]
  },
  {
   "cell_type": "code",
   "execution_count": 21,
   "metadata": {},
   "outputs": [
    {
     "name": "stdout",
     "output_type": "stream",
     "text": [
      "{}\n",
      "{}\n"
     ]
    }
   ],
   "source": [
    "print(s1.__dict__)\n",
    "print(s2.__dict__)"
   ]
  },
  {
   "cell_type": "code",
   "execution_count": 22,
   "metadata": {},
   "outputs": [],
   "source": [
    "# The objects s1 and s2 are still empty, its just that they have access to totalStudents"
   ]
  },
  {
   "cell_type": "code",
   "execution_count": 23,
   "metadata": {},
   "outputs": [
    {
     "name": "stdout",
     "output_type": "stream",
     "text": [
      "20\n",
      "20\n",
      "20\n"
     ]
    }
   ],
   "source": [
    "# We can access the class attribute from the objects but cannot modify them\n",
    "\n",
    "print(Student.totalStudents)\n",
    "print(s1.totalStudents)\n",
    "print(s2.totalStudents)"
   ]
  },
  {
   "cell_type": "code",
   "execution_count": 24,
   "metadata": {},
   "outputs": [
    {
     "name": "stdout",
     "output_type": "stream",
     "text": [
      "30\n",
      "30\n",
      "30\n"
     ]
    }
   ],
   "source": [
    "Student.totalStudents = 30 # Updating value\n",
    "\n",
    "print(Student.totalStudents)\n",
    "print(s1.totalStudents)\n",
    "print(s2.totalStudents)"
   ]
  },
  {
   "cell_type": "code",
   "execution_count": 25,
   "metadata": {},
   "outputs": [
    {
     "name": "stdout",
     "output_type": "stream",
     "text": [
      "30\n",
      "40\n",
      "30\n"
     ]
    }
   ],
   "source": [
    "s1.totalStudents = 40\n",
    "\n",
    "print(Student.totalStudents)\n",
    "print(s1.totalStudents)\n",
    "print(s2.totalStudents)"
   ]
  },
  {
   "cell_type": "code",
   "execution_count": 26,
   "metadata": {},
   "outputs": [
    {
     "name": "stdout",
     "output_type": "stream",
     "text": [
      "{'totalStudents': 40}\n",
      "{}\n"
     ]
    }
   ],
   "source": [
    "# A new instance attribute was created for s1 leaving Student class' attribute value unchanged\n",
    "\n",
    "print(s1.__dict__)\n",
    "print(s2.__dict__)"
   ]
  },
  {
   "cell_type": "code",
   "execution_count": 27,
   "metadata": {},
   "outputs": [],
   "source": [
    "# If you try to access obj.prop, first it is checked if the object has that instance, if no -> it checks if its class has that, if no -> then error "
   ]
  },
  {
   "cell_type": "markdown",
   "metadata": {},
   "source": [
    "### Methods\n",
    "\n",
    "There are three types of Methods\n",
    "* Instance Methods: Just like Instance Attribute these are bound to Objects, eg updateName\n",
    "\n",
    "* Class Methods: Bound to class, eg changeClassTeacherName\n",
    "* Static Methods:"
   ]
  },
  {
   "cell_type": "code",
   "execution_count": 28,
   "metadata": {},
   "outputs": [],
   "source": [
    "class Student:\n",
    "    ## Class attributes\n",
    "    totalStudents = 20\n",
    "    classTeacherName = 'Komal'\n",
    "    \n",
    "    ## Instance methods\n",
    "    def printHello():\n",
    "        print(\"Hello\")\n",
    "    \n",
    "s1 = Student()\n",
    "s2 = Student()"
   ]
  },
  {
   "cell_type": "code",
   "execution_count": 29,
   "metadata": {},
   "outputs": [],
   "source": [
    "# s1.printHello() throws -> TypeError: printHello() takes 0 positional arguments but 1 was given\n",
    "\n",
    "# This is because s1.printHello() is interpreted as Student.printHello(s1)"
   ]
  },
  {
   "cell_type": "code",
   "execution_count": 30,
   "metadata": {},
   "outputs": [],
   "source": [
    "# To correct we can add a parameter in printHello\n",
    "# conventionally we name it as self (analogues to 'this' in Cpp)\n",
    "\n",
    "class Student:\n",
    "    ## Class attributes\n",
    "    totalStudents = 20\n",
    "    classTeacherName = 'Komal'\n",
    "    \n",
    "    ## Instance methods\n",
    "    def printHello(self):\n",
    "        print(\"Hello\")\n",
    "    \n",
    "s1 = Student()\n",
    "s2 = Student()"
   ]
  },
  {
   "cell_type": "code",
   "execution_count": 31,
   "metadata": {
    "scrolled": true
   },
   "outputs": [
    {
     "name": "stdout",
     "output_type": "stream",
     "text": [
      "Hello\n"
     ]
    }
   ],
   "source": [
    "s1.printHello()"
   ]
  },
  {
   "cell_type": "code",
   "execution_count": 32,
   "metadata": {},
   "outputs": [
    {
     "name": "stdout",
     "output_type": "stream",
     "text": [
      "Hello\n"
     ]
    }
   ],
   "source": [
    "# To call method from a Class, add any object as parameter\n",
    "\n",
    "class Student:\n",
    "    ## Class attributes\n",
    "    totalStudents = 20\n",
    "    classTeacherName = 'Komal'\n",
    "    \n",
    "    ## Instance methods\n",
    "    def printHello(self):\n",
    "        print(\"Hello\")\n",
    "    \n",
    "s1 = Student()\n",
    "s2 = Student()\n",
    "\n",
    "Student.printHello(s2)"
   ]
  },
  {
   "cell_type": "code",
   "execution_count": 33,
   "metadata": {
    "scrolled": true
   },
   "outputs": [],
   "source": [
    "class Student:\n",
    "    ## Class attributes\n",
    "    totalStudents = 20\n",
    "    classTeacherName = 'Komal'\n",
    "    \n",
    "    ## Instance methods\n",
    "    def printHello(self):\n",
    "        print(str)\n",
    "    \n",
    "    def print(self, str):\n",
    "        print(str)\n",
    "    \n",
    "    def printName(self, str):\n",
    "        print(str)\n",
    "        \n",
    "s1 = Student()\n",
    "s2 = Student()\n"
   ]
  },
  {
   "cell_type": "code",
   "execution_count": 34,
   "metadata": {},
   "outputs": [
    {
     "name": "stdout",
     "output_type": "stream",
     "text": [
      "Mohit\n"
     ]
    }
   ],
   "source": [
    "s1.name = \"Mohit\"\n",
    "s1.print(s1.name)"
   ]
  },
  {
   "cell_type": "code",
   "execution_count": 35,
   "metadata": {},
   "outputs": [],
   "source": [
    "class Student:\n",
    "    ## Class attributes\n",
    "    totalStudents = 20\n",
    "    classTeacherName = 'Komal'\n",
    "    \n",
    "    ## Instance methods\n",
    "    def printHello(self):\n",
    "        print(str)\n",
    "    \n",
    "    def print(self, str):\n",
    "        print(str)\n",
    "    \n",
    "    def printName(self):\n",
    "        print(self.name)\n",
    "        \n",
    "s1 = Student()\n",
    "s2 = Student()"
   ]
  },
  {
   "cell_type": "code",
   "execution_count": 36,
   "metadata": {},
   "outputs": [
    {
     "name": "stdout",
     "output_type": "stream",
     "text": [
      "Mohit\n"
     ]
    }
   ],
   "source": [
    "s1.name = \"Mohit\"\n",
    "s1.print(s1.name)"
   ]
  },
  {
   "cell_type": "code",
   "execution_count": 37,
   "metadata": {},
   "outputs": [],
   "source": [
    "class Student:\n",
    "    ## Class attributes\n",
    "    totalStudents = 20\n",
    "    classTeacherName = 'Komal'\n",
    "    \n",
    "    ## Instance methods\n",
    "    def printHello(self):\n",
    "        print(str)\n",
    "    \n",
    "    def print(self, str):\n",
    "        print(str)\n",
    "    \n",
    "    def printName(self):\n",
    "        print(self.name)\n",
    "    \n",
    "    def addName(self, name):\n",
    "        self.name = name\n",
    "    \n",
    "    def test(self):\n",
    "        print(totalStudents)\n",
    "        \n",
    "    def test_1(self):\n",
    "        # We can update value too here \n",
    "        Student.totalStudents = 34\n",
    "        print(Student.totalStudents)\n",
    "        \n",
    "    # We can also add new attribute through the function\n",
    "    def test_2(self):\n",
    "            \n",
    "        Student.totalTeachers = 2\n",
    "        print(Student.totalTeachers)\n",
    "        \n",
    "s1 = Student()\n",
    "s2 = Student()"
   ]
  },
  {
   "cell_type": "code",
   "execution_count": 38,
   "metadata": {},
   "outputs": [
    {
     "name": "stdout",
     "output_type": "stream",
     "text": [
      "{}\n",
      "{}\n"
     ]
    }
   ],
   "source": [
    "print(s1.__dict__)\n",
    "print(s2.__dict__)"
   ]
  },
  {
   "cell_type": "code",
   "execution_count": 39,
   "metadata": {},
   "outputs": [
    {
     "name": "stdout",
     "output_type": "stream",
     "text": [
      "{'name': 'Mohit'}\n",
      "{}\n"
     ]
    }
   ],
   "source": [
    "s1.addName(\"Mohit\")\n",
    "print(s1.__dict__)\n",
    "print(s2.__dict__)"
   ]
  },
  {
   "cell_type": "code",
   "execution_count": 40,
   "metadata": {},
   "outputs": [
    {
     "name": "stdout",
     "output_type": "stream",
     "text": [
      "{'name': 'Aman'}\n"
     ]
    }
   ],
   "source": [
    "s1.addName('Aman')\n",
    "print(s1.__dict__)"
   ]
  },
  {
   "cell_type": "code",
   "execution_count": 41,
   "metadata": {},
   "outputs": [],
   "source": [
    "# s2.printName() will throw AttributeError: 'Student' object has no attribute 'name'"
   ]
  },
  {
   "cell_type": "code",
   "execution_count": 42,
   "metadata": {},
   "outputs": [
    {
     "name": "stdout",
     "output_type": "stream",
     "text": [
      "34\n"
     ]
    }
   ],
   "source": [
    "# s1.test() will throw AttributeError: 'Student' object has no attribute 'test'\n",
    "# If function is called without any specification, it will treat variable to be its local\n",
    "\n",
    "# We have to specify class name in this case\n",
    "\n",
    "s1.test_1()\n"
   ]
  },
  {
   "cell_type": "code",
   "execution_count": 43,
   "metadata": {
    "scrolled": true
   },
   "outputs": [
    {
     "name": "stdout",
     "output_type": "stream",
     "text": [
      "2\n",
      "{'__module__': '__main__', 'totalStudents': 34, 'classTeacherName': 'Komal', 'printHello': <function Student.printHello at 0x7f401c048488>, 'print': <function Student.print at 0x7f401c048510>, 'printName': <function Student.printName at 0x7f401c048598>, 'addName': <function Student.addName at 0x7f401c048620>, 'test': <function Student.test at 0x7f401c0486a8>, 'test_1': <function Student.test_1 at 0x7f401c048730>, 'test_2': <function Student.test_2 at 0x7f401c0487b8>, '__dict__': <attribute '__dict__' of 'Student' objects>, '__weakref__': <attribute '__weakref__' of 'Student' objects>, '__doc__': None, 'totalTeachers': 2}\n"
     ]
    }
   ],
   "source": [
    "s1.test_2()\n",
    "print(Student.__dict__)"
   ]
  },
  {
   "cell_type": "markdown",
   "metadata": {},
   "source": [
    "### Constructors\n",
    "\n",
    "* Special Instance Method, Constructor is present in each class by default\n",
    "\n",
    "* Constructor is called implicitly, automatically once we create an object"
   ]
  },
  {
   "cell_type": "code",
   "execution_count": 44,
   "metadata": {},
   "outputs": [
    {
     "name": "stdout",
     "output_type": "stream",
     "text": [
      "Constructor is called\n",
      "Constructor is called\n"
     ]
    }
   ],
   "source": [
    "class Student:\n",
    "    ## Class attributes\n",
    "    totalStudents = 20\n",
    "    classTeacherName = 'Komal'\n",
    "    \n",
    "    def __init__(self):               ## Constructor Syntax: This one is present by default\n",
    "        print(\"Constructor is called\")\n",
    "        pass\n",
    "    \n",
    "    ## Instance methods\n",
    "    def printHello(self):\n",
    "        print(str)\n",
    "    \n",
    "    def print(self, str):\n",
    "        print(str)\n",
    "    \n",
    "    def printName(self):\n",
    "        print(self.name)\n",
    "    \n",
    "    def addName(self, name):\n",
    "        self.name = name\n",
    "    \n",
    "    def test(self):\n",
    "        print(totalStudents)\n",
    "        \n",
    "    def test_1(self):\n",
    "        # We can update value too here \n",
    "        Student.totalStudents = 34\n",
    "        print(Student.totalStudents)\n",
    "        \n",
    "    # We can also add new attribute through the function\n",
    "    def test_2(self):\n",
    "            \n",
    "        Student.totalTeachers = 2\n",
    "        print(Student.totalTeachers)\n",
    "        \n",
    "s1 = Student()\n",
    "s2 = Student()"
   ]
  },
  {
   "cell_type": "code",
   "execution_count": 45,
   "metadata": {},
   "outputs": [],
   "source": [
    "# Once we create a constructor, the default one gets vanished\n",
    "class Student:\n",
    "    ## Class attributes\n",
    "    totalStudents = 20\n",
    "    classTeacherName = 'Komal'\n",
    "    \n",
    "    def __init__(self):               \n",
    "        self.name = 'Mohit'\n",
    "        self.age = 20\n",
    "        self.rollNumber = 101\n",
    "        pass\n",
    "    \n",
    "    ## Instance methods\n",
    "    def printHello(self):\n",
    "        print(str)\n",
    "    \n",
    "    def print(self, str):\n",
    "        print(str)\n",
    "    \n",
    "    def printName(self):\n",
    "        print(self.name)\n",
    "    \n",
    "    def addName(self, name):\n",
    "        self.name = name\n",
    "    \n",
    "    def test(self):\n",
    "        print(totalStudents)\n",
    "        \n",
    "    def test_1(self):\n",
    "        # We can update value too here \n",
    "        Student.totalStudents = 34\n",
    "        print(Student.totalStudents)\n",
    "        \n",
    "    # We can also add new attribute through the function\n",
    "    def test_2(self):\n",
    "            \n",
    "        Student.totalTeachers = 2\n",
    "        print(Student.totalTeachers)\n",
    "        \n",
    "s1 = Student()\n",
    "s2 = Student()"
   ]
  },
  {
   "cell_type": "code",
   "execution_count": 46,
   "metadata": {},
   "outputs": [
    {
     "name": "stdout",
     "output_type": "stream",
     "text": [
      "{'name': 'Mohit', 'age': 20, 'rollNumber': 101}\n",
      "{'name': 'Mohit', 'age': 20, 'rollNumber': 101}\n"
     ]
    }
   ],
   "source": [
    "print(s1.__dict__)\n",
    "print(s2.__dict__)"
   ]
  },
  {
   "cell_type": "code",
   "execution_count": 47,
   "metadata": {},
   "outputs": [],
   "source": [
    "# But we want different value, we can pass these values instead\n",
    "\n",
    "# Once we create a constructor, the default one gets vanished\n",
    "class Student:\n",
    "    ## Class attributes\n",
    "    totalStudents = 20\n",
    "    classTeacherName = 'Komal'\n",
    "    \n",
    "    def __init__(self, name, age, rollNumber):               \n",
    "        self.name = name\n",
    "        self.age = age\n",
    "        self.rollNumber = rollNumber\n",
    "        pass\n",
    "    \n",
    "    ## Instance methods\n",
    "    def printHello(self):\n",
    "        print(str)\n",
    "    \n",
    "    def print(self, str):\n",
    "        print(str)\n",
    "    \n",
    "    def printName(self):\n",
    "        print(self.name)\n",
    "    \n",
    "    def addName(self, name):\n",
    "        self.name = name\n",
    "    \n",
    "    def test(self):\n",
    "        print(totalStudents)\n",
    "        \n",
    "    def test_1(self):\n",
    "        # We can update value too here \n",
    "        Student.totalStudents = 34\n",
    "        print(Student.totalStudents)\n",
    "        \n",
    "    # We can also add new attribute through the function\n",
    "    def test_2(self):\n",
    "            \n",
    "        Student.totalTeachers = 2\n",
    "        print(Student.totalTeachers)\n",
    "        \n",
    "s1 = Student(\"Mohit\", 20, 101)\n",
    "s2 = Student(\"Aman\", 21, 102)"
   ]
  },
  {
   "cell_type": "code",
   "execution_count": 48,
   "metadata": {},
   "outputs": [
    {
     "name": "stdout",
     "output_type": "stream",
     "text": [
      "{'name': 'Mohit', 'age': 20, 'rollNumber': 101}\n",
      "{'name': 'Aman', 'age': 21, 'rollNumber': 102}\n"
     ]
    }
   ],
   "source": [
    "print(s1.__dict__)\n",
    "print(s2.__dict__)"
   ]
  },
  {
   "cell_type": "code",
   "execution_count": 49,
   "metadata": {},
   "outputs": [],
   "source": [
    "# We can also put default values like other functions\n",
    "\n",
    "# But we want different value, we can pass these values instead\n",
    "\n",
    "# Once we create a constructor, the default one gets vanished\n",
    "class Student:\n",
    "    ## Class attributes\n",
    "    totalStudents = 20\n",
    "    classTeacherName = 'Komal'\n",
    "    \n",
    "    def __init__(self, name, age, rollNumber = 100):               \n",
    "        self.name = name\n",
    "        self.age = age\n",
    "        self.rollNumber = rollNumber\n",
    "        pass\n",
    "    \n",
    "    ## Instance methods\n",
    "    def printHello(self):\n",
    "        print(str)\n",
    "    \n",
    "    def print(self, str):\n",
    "        print(str)\n",
    "    \n",
    "    def printName(self):\n",
    "        print(self.name)\n",
    "    \n",
    "    def addName(self, name):\n",
    "        self.name = name\n",
    "    \n",
    "    def test(self):\n",
    "        print(totalStudents)\n",
    "        \n",
    "    def test_1(self):\n",
    "        # We can update value too here \n",
    "        Student.totalStudents = 34\n",
    "        print(Student.totalStudents)\n",
    "        \n",
    "    # We can also add new attribute through the function\n",
    "    def test_2(self):\n",
    "            \n",
    "        Student.totalTeachers = 2\n",
    "        print(Student.totalTeachers)\n",
    "        \n",
    "s1 = Student(\"Mohit\", 20, 101)\n",
    "s2 = Student(\"Aman\", 21, 102)\n",
    "s3 = Student(\"Neeraj\", 45)"
   ]
  },
  {
   "cell_type": "code",
   "execution_count": 50,
   "metadata": {},
   "outputs": [
    {
     "data": {
      "text/plain": [
       "<__main__.Student at 0x7f401c05c588>"
      ]
     },
     "execution_count": 50,
     "metadata": {},
     "output_type": "execute_result"
    }
   ],
   "source": [
    "s3"
   ]
  },
  {
   "cell_type": "code",
   "execution_count": 51,
   "metadata": {},
   "outputs": [
    {
     "data": {
      "text/plain": [
       "{'name': 'Neeraj', 'age': 45, 'rollNumber': 100}"
      ]
     },
     "execution_count": 51,
     "metadata": {},
     "output_type": "execute_result"
    }
   ],
   "source": [
    "s3.__dict__"
   ]
  },
  {
   "cell_type": "code",
   "execution_count": 52,
   "metadata": {},
   "outputs": [],
   "source": [
    "# Constructor overloading not allowed\n",
    "# But here we can pass multiple arguments using Syntax\n",
    "# def __init__(self, *args)"
   ]
  },
  {
   "cell_type": "markdown",
   "metadata": {},
   "source": [
    "### Access Specifiers\n",
    "\n",
    "These are of three types:\n",
    "* Public\n",
    "* Private\n",
    "* Protected"
   ]
  },
  {
   "cell_type": "code",
   "execution_count": 53,
   "metadata": {},
   "outputs": [],
   "source": [
    "# By default everything in Python is Public\n",
    "# To define anything private, lead the property by 2 underscores\n",
    "# To define anything protected, lead the property by 2 underscores"
   ]
  },
  {
   "cell_type": "code",
   "execution_count": 54,
   "metadata": {},
   "outputs": [
    {
     "data": {
      "text/plain": [
       "{'_Student__name': 'Mohit', 'age': 20, 'rollNumber': 101}"
      ]
     },
     "execution_count": 54,
     "metadata": {},
     "output_type": "execute_result"
    }
   ],
   "source": [
    "class Student:\n",
    "    ## Class attributes\n",
    "    totalStudents = 20\n",
    "    classTeacherName = 'Komal'\n",
    "    \n",
    "    def __init__(self, name, age, rollNumber = 100):               \n",
    "        self.__name = name\n",
    "        self.age = age\n",
    "        self.rollNumber = rollNumber\n",
    "        pass\n",
    "    \n",
    "    ## Instance methods\n",
    "    def print(self, str):\n",
    "        print(str)\n",
    "    \n",
    "    def printName(self):\n",
    "        print(self.name)\n",
    "    \n",
    "    def addName(self, name):\n",
    "        self.name = name\n",
    "    \n",
    "            \n",
    "s1 = Student(\"Mohit\", 20, 101)\n",
    "s2 = Student(\"Aman\", 21, 102)\n",
    "s3 = Student(\"Neeraj\", 45)\n",
    "\n",
    "s1.__dict__"
   ]
  },
  {
   "cell_type": "markdown",
   "metadata": {},
   "source": [
    "### Why do we make the attributes private?\n",
    "\n",
    "* Abstraction -> for hiding irrelevant information\n",
    "* Security -> restrict data access"
   ]
  },
  {
   "cell_type": "code",
   "execution_count": 55,
   "metadata": {},
   "outputs": [
    {
     "data": {
      "text/plain": [
       "{'_Student__name': 'Mohit', 'age': 20, 'rollNumber': 101}"
      ]
     },
     "execution_count": 55,
     "metadata": {},
     "output_type": "execute_result"
    }
   ],
   "source": [
    "class Student:\n",
    "    ## Class attributes\n",
    "    totalStudents = 20\n",
    "    classTeacherName = 'Komal'\n",
    "    \n",
    "    def __init__(self, name, age, rollNumber = 100):               \n",
    "        self.__name = name\n",
    "        self.age = age\n",
    "        self.rollNumber = rollNumber\n",
    "        pass\n",
    "    \n",
    "    def getName(self): # To get access of property outside the class!\n",
    "        return self.__name\n",
    "    \n",
    "    def setName(self, name): # To update private paraeter name!\n",
    "        self.__name = name\n",
    "    \n",
    "    ## Instance methods\n",
    "    def print(self, str):\n",
    "        print(str)\n",
    "    \n",
    "    def printName(self):\n",
    "        print(self.name)\n",
    "    \n",
    "    def addName(self, name):\n",
    "        self.name = name\n",
    "    \n",
    "            \n",
    "s1 = Student(\"Mohit\", 20, 101)\n",
    "s2 = Student(\"Aman\", 21, 102)\n",
    "s3 = Student(\"Neeraj\", 45)\n",
    "\n",
    "s1.__dict__"
   ]
  },
  {
   "cell_type": "code",
   "execution_count": 56,
   "metadata": {},
   "outputs": [
    {
     "name": "stdout",
     "output_type": "stream",
     "text": [
      "Mohit\n"
     ]
    }
   ],
   "source": [
    "print(s1.getName())"
   ]
  },
  {
   "cell_type": "code",
   "execution_count": 57,
   "metadata": {},
   "outputs": [
    {
     "name": "stdout",
     "output_type": "stream",
     "text": [
      "Sushant\n"
     ]
    }
   ],
   "source": [
    "s1.setName(\"Sushant\")\n",
    "print(s1.getName())"
   ]
  },
  {
   "cell_type": "markdown",
   "metadata": {},
   "source": [
    "#### Private property\n",
    "* We can still access private parameter, as there is nothing 'private' in Python in sense of cpp\n",
    "\n",
    "* When you make a property private its name changes to _Student__propName\n",
    "\n",
    "Python follows the concept of **Name Mangling!**\n",
    "\n",
    "In Python, there is something called name mangling, which means that there is a limited support for a valid use-case for class-private members basically to avoid name clashes of names with names defined by subclasses. Any identifier of the form \\_\\_geek (at least two leading underscores or at most one trailing underscore) is replaced with \\_\\_classname__geek, where classname is the current class name with leading underscore(s) stripped. As long as it occurs within the definition of the class, this mangling is done. This is helpful for letting subclasses override methods without breaking intraclass method calls."
   ]
  },
  {
   "cell_type": "code",
   "execution_count": 58,
   "metadata": {},
   "outputs": [
    {
     "name": "stdout",
     "output_type": "stream",
     "text": [
      "Sushant\n"
     ]
    }
   ],
   "source": [
    "print(s1._Student__name) # This way we can access private properties also"
   ]
  },
  {
   "cell_type": "markdown",
   "metadata": {},
   "source": [
    "### Class methods and static method"
   ]
  },
  {
   "cell_type": "code",
   "execution_count": 59,
   "metadata": {},
   "outputs": [],
   "source": [
    "# Lets make class attribute _totalStudents private\n",
    "class Student:\n",
    "    ## Class attributes\n",
    "    __totalStudents = 20 #private\n",
    "    classTeacherName = 'Komal'\n",
    "    \n",
    "    def __init__(self, name, age, rollNumber = 100):               \n",
    "        self.__name = name\n",
    "        self.age = age\n",
    "        self.rollNumber = rollNumber\n",
    "        pass\n",
    "    \n",
    "    def getName(self):\n",
    "        return self.__name\n",
    "    \n",
    "    def setName(self, name):\n",
    "        self.__name = name\n",
    "    \n",
    "            \n",
    "s1 = Student(\"Mohit\", 20, 101)\n",
    "s2 = Student(\"Aman\", 21, 102)\n",
    "s3 = Student(\"Neeraj\", 45)\n"
   ]
  },
  {
   "cell_type": "code",
   "execution_count": 60,
   "metadata": {},
   "outputs": [],
   "source": [
    "## print(Student.__totalStudents) # Will throw error\n",
    "\n",
    "# We can still access the variable using Student._Student__totalStudents"
   ]
  },
  {
   "cell_type": "code",
   "execution_count": 61,
   "metadata": {},
   "outputs": [],
   "source": [
    "# We can create a public function\n",
    "\n",
    "class Student:\n",
    "    ## Class attributes\n",
    "    __totalStudents = 20\n",
    "    classTeacherName = 'Komal'\n",
    "    \n",
    "    # @classmethod is a decorative\n",
    "    \n",
    "    @classmethod # Telling compiler, This function is bound to class not to object \n",
    "    def getTotalStudents(cls): #cls represents reference to current class\n",
    "        return Student.__totalStudents\n",
    "    \n",
    "    def __init__(self, name, age, rollNumber = 100):               \n",
    "        self.__name = name\n",
    "        self.age = age\n",
    "        self.rollNumber = rollNumber\n",
    "        pass\n",
    "    \n",
    "    def getName(self):\n",
    "        return self.__name\n",
    "    \n",
    "    def setName(self, name):\n",
    "        self.__name = name\n",
    "    \n",
    "            \n",
    "s1 = Student(\"Mohit\", 20, 101)\n",
    "s2 = Student(\"Aman\", 21, 102)\n",
    "s3 = Student(\"Neeraj\", 45)"
   ]
  },
  {
   "cell_type": "code",
   "execution_count": 62,
   "metadata": {},
   "outputs": [
    {
     "name": "stdout",
     "output_type": "stream",
     "text": [
      "20\n"
     ]
    }
   ],
   "source": [
    "print(Student.getTotalStudents())"
   ]
  },
  {
   "cell_type": "code",
   "execution_count": 63,
   "metadata": {},
   "outputs": [],
   "source": [
    "# Factory Methods, Static Methods"
   ]
  }
 ],
 "metadata": {
  "kernelspec": {
   "display_name": "Python 3",
   "language": "python",
   "name": "python3"
  },
  "language_info": {
   "codemirror_mode": {
    "name": "ipython",
    "version": 3
   },
   "file_extension": ".py",
   "mimetype": "text/x-python",
   "name": "python",
   "nbconvert_exporter": "python",
   "pygments_lexer": "ipython3",
   "version": "3.6.8"
  }
 },
 "nbformat": 4,
 "nbformat_minor": 2
}
