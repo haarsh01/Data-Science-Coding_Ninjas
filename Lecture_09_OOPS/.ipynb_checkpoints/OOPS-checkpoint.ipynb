{
 "cells": [
  {
   "cell_type": "code",
   "execution_count": 1,
   "metadata": {},
   "outputs": [],
   "source": [
    "# Every object has two characterists\n",
    "# First it can have property associated with it and next it can have some behavior associated with it\n",
    "\n",
    "# Properties -> Atrributes\n",
    "# Behavior -> Methods"
   ]
  },
  {
   "cell_type": "code",
   "execution_count": 2,
   "metadata": {},
   "outputs": [
    {
     "name": "stdout",
     "output_type": "stream",
     "text": [
      "<class 'int'>\n"
     ]
    }
   ],
   "source": [
    "a = 10\n",
    "print(type(a))"
   ]
  },
  {
   "cell_type": "code",
   "execution_count": 3,
   "metadata": {},
   "outputs": [
    {
     "name": "stdout",
     "output_type": "stream",
     "text": [
      "<class 'list'>\n"
     ]
    }
   ],
   "source": [
    "l = [1, 2, 3]\n",
    "print(type(l))"
   ]
  },
  {
   "cell_type": "code",
   "execution_count": 4,
   "metadata": {},
   "outputs": [],
   "source": [
    "# User defined class\n",
    "\n",
    "class Student:\n",
    "    pass"
   ]
  },
  {
   "cell_type": "code",
   "execution_count": 5,
   "metadata": {},
   "outputs": [],
   "source": [
    "# create 3 objects\n",
    "\n",
    "s1 = Student()\n",
    "s2 = Student()\n",
    "s3 = Student()"
   ]
  },
  {
   "cell_type": "markdown",
   "metadata": {},
   "source": [
    "## Types of Attribute\n",
    "\n",
    "### Instance attributes\n",
    "\n",
    "* Object attribute, that is these attributes are bound to a specific object. Eg: Name, Student, Age for the Student example.\n",
    "\n",
    "### Class attributes\n",
    "\n",
    "* Attribute bound to class. Eg: Class teacher name, total number of students.\n"
   ]
  },
  {
   "cell_type": "code",
   "execution_count": 6,
   "metadata": {},
   "outputs": [],
   "source": [
    "# Instance attributes\n",
    "# Objects can have different instance attributes\n",
    "# Adding Attributes: s1 -> Name, Age; s2 -> Roll no; s3 -> Age will not throw error\n",
    "\n",
    "s1.name = \"Mohit\" # This creates new attribute \"name\" to s1\n",
    "s1.age = 20"
   ]
  },
  {
   "cell_type": "code",
   "execution_count": 7,
   "metadata": {},
   "outputs": [],
   "source": [
    "s2.rollNumber = 101"
   ]
  },
  {
   "cell_type": "code",
   "execution_count": 8,
   "metadata": {},
   "outputs": [],
   "source": [
    "s3.age = 21"
   ]
  },
  {
   "cell_type": "code",
   "execution_count": 9,
   "metadata": {},
   "outputs": [],
   "source": [
    "s3.age = 34"
   ]
  },
  {
   "cell_type": "code",
   "execution_count": 10,
   "metadata": {},
   "outputs": [],
   "source": [
    "# In Python each and every instance of class (ie object) possesses a dictionary which holds list of attributes along with value\n",
    "\n",
    "# Syntax to access the dictionary: objName.__dict__"
   ]
  },
  {
   "cell_type": "code",
   "execution_count": 11,
   "metadata": {},
   "outputs": [
    {
     "name": "stdout",
     "output_type": "stream",
     "text": [
      "{'name': 'Mohit', 'age': 20}\n",
      "{'rollNumber': 101}\n",
      "{'age': 34}\n"
     ]
    }
   ],
   "source": [
    "print(s1.__dict__)\n",
    "print(s2.__dict__)\n",
    "print(s3.__dict__)"
   ]
  },
  {
   "cell_type": "code",
   "execution_count": 12,
   "metadata": {},
   "outputs": [
    {
     "name": "stdout",
     "output_type": "stream",
     "text": [
      "{}\n"
     ]
    }
   ],
   "source": [
    "s4 = Student()\n",
    "print(s4.__dict__)"
   ]
  },
  {
   "cell_type": "code",
   "execution_count": 13,
   "metadata": {},
   "outputs": [
    {
     "name": "stdout",
     "output_type": "stream",
     "text": [
      "Mohit\n"
     ]
    }
   ],
   "source": [
    "print(s1.name)"
   ]
  },
  {
   "cell_type": "code",
   "execution_count": 14,
   "metadata": {},
   "outputs": [
    {
     "name": "stdout",
     "output_type": "stream",
     "text": [
      "True\n"
     ]
    }
   ],
   "source": [
    "# Inbuilt functions\n",
    "\n",
    "# hasattr(objectName, attributeToCheck)\n",
    "\n",
    "print(hasattr(s1, 'name'))"
   ]
  },
  {
   "cell_type": "code",
   "execution_count": 15,
   "metadata": {},
   "outputs": [
    {
     "name": "stdout",
     "output_type": "stream",
     "text": [
      "False\n"
     ]
    }
   ],
   "source": [
    "print(hasattr(s2, 'name'))"
   ]
  },
  {
   "cell_type": "code",
   "execution_count": 16,
   "metadata": {},
   "outputs": [],
   "source": [
    "# setattr(objectName, attribute, valuetoSet)\n",
    "# delattr(objectName, attributeToDelete)\n",
    "# getattr(objectName, attributeTovalueToGet)\n",
    "# getattr(objectName, attributeTovalueToGet, defaultValue) # In case attribute is not present"
   ]
  },
  {
   "cell_type": "code",
   "execution_count": 17,
   "metadata": {},
   "outputs": [
    {
     "name": "stdout",
     "output_type": "stream",
     "text": [
      "Mohit\n",
      "No such attribute\n"
     ]
    }
   ],
   "source": [
    "print(getattr(s1, 'name'))\n",
    "print(getattr(s2, 'name','No such attribute')) # Had we passed no defaultValue, we'd have gotten error"
   ]
  },
  {
   "cell_type": "code",
   "execution_count": 18,
   "metadata": {},
   "outputs": [
    {
     "name": "stdout",
     "output_type": "stream",
     "text": [
      "{'age': 20}\n"
     ]
    }
   ],
   "source": [
    "delattr(s1, 'name')\n",
    "print(s1.__dict__)"
   ]
  },
  {
   "cell_type": "code",
   "execution_count": 19,
   "metadata": {},
   "outputs": [
    {
     "name": "stdout",
     "output_type": "stream",
     "text": [
      "{'__module__': '__main__', '__dict__': <attribute '__dict__' of 'Student' objects>, '__weakref__': <attribute '__weakref__' of 'Student' objects>, '__doc__': None, 'totalStudents': 20}\n"
     ]
    }
   ],
   "source": [
    "# Class attributes\n",
    "# Syntax like we used to set instance attribute\n",
    "\n",
    "Student.totalStudents = 20\n",
    "print(Student.__dict__)"
   ]
  },
  {
   "cell_type": "code",
   "execution_count": 20,
   "metadata": {},
   "outputs": [
    {
     "name": "stdout",
     "output_type": "stream",
     "text": [
      "{'__module__': '__main__', 'totalStudents': 20, 'classTeacherName': 'Komal', '__dict__': <attribute '__dict__' of 'Student' objects>, '__weakref__': <attribute '__weakref__' of 'Student' objects>, '__doc__': None}\n"
     ]
    }
   ],
   "source": [
    "# Another way of adding class attribute\n",
    "\n",
    "class Student:\n",
    "    ## Class attributes\n",
    "    totalStudents = 20\n",
    "    classTeacherName = 'Komal'\n",
    "    \n",
    "s1 = Student()\n",
    "s2 = Student()\n",
    "print(Student.__dict__)"
   ]
  },
  {
   "cell_type": "code",
   "execution_count": 21,
   "metadata": {},
   "outputs": [
    {
     "name": "stdout",
     "output_type": "stream",
     "text": [
      "{}\n",
      "{}\n"
     ]
    }
   ],
   "source": [
    "print(s1.__dict__)\n",
    "print(s2.__dict__)"
   ]
  },
  {
   "cell_type": "code",
   "execution_count": 22,
   "metadata": {},
   "outputs": [],
   "source": [
    "# The objects s1 and s2 are still empty, its just that they have access to totalStudents"
   ]
  },
  {
   "cell_type": "code",
   "execution_count": 23,
   "metadata": {},
   "outputs": [
    {
     "name": "stdout",
     "output_type": "stream",
     "text": [
      "20\n",
      "20\n",
      "20\n"
     ]
    }
   ],
   "source": [
    "# We can access the class attribute from the objects but cannot modify them\n",
    "\n",
    "print(Student.totalStudents)\n",
    "print(s1.totalStudents)\n",
    "print(s2.totalStudents)"
   ]
  },
  {
   "cell_type": "code",
   "execution_count": 24,
   "metadata": {},
   "outputs": [
    {
     "name": "stdout",
     "output_type": "stream",
     "text": [
      "30\n",
      "30\n",
      "30\n"
     ]
    }
   ],
   "source": [
    "Student.totalStudents = 30 # Updating value\n",
    "\n",
    "print(Student.totalStudents)\n",
    "print(s1.totalStudents)\n",
    "print(s2.totalStudents)"
   ]
  },
  {
   "cell_type": "code",
   "execution_count": 25,
   "metadata": {},
   "outputs": [
    {
     "name": "stdout",
     "output_type": "stream",
     "text": [
      "30\n",
      "40\n",
      "30\n"
     ]
    }
   ],
   "source": [
    "s1.totalStudents = 40\n",
    "\n",
    "print(Student.totalStudents)\n",
    "print(s1.totalStudents)\n",
    "print(s2.totalStudents)"
   ]
  },
  {
   "cell_type": "code",
   "execution_count": 26,
   "metadata": {},
   "outputs": [
    {
     "name": "stdout",
     "output_type": "stream",
     "text": [
      "{'totalStudents': 40}\n",
      "{}\n"
     ]
    }
   ],
   "source": [
    "# A new instance attribute was created for s1 leaving Student class' attribute value unchanged\n",
    "\n",
    "print(s1.__dict__)\n",
    "print(s2.__dict__)"
   ]
  },
  {
   "cell_type": "code",
   "execution_count": 27,
   "metadata": {},
   "outputs": [],
   "source": [
    "# If you try to access obj.prop, first it is checked if the object has that instance, if no -> it checks if its class has that, if no -> then error "
   ]
  },
  {
   "cell_type": "markdown",
   "metadata": {},
   "source": [
    "### Methods\n",
    "\n",
    "There are three types of Methods\n",
    "* Instance Methods: Just like Instance Attribute these are bound to Objects, eg updateName\n",
    "\n",
    "* Class Methods: Bound to class, eg changeClassTeacherName\n",
    "* Static Methods:"
   ]
  },
  {
   "cell_type": "code",
   "execution_count": 28,
   "metadata": {},
   "outputs": [],
   "source": [
    "class Student:\n",
    "    ## Class attributes\n",
    "    totalStudents = 20\n",
    "    classTeacherName = 'Komal'\n",
    "    \n",
    "    ## Instance methods\n",
    "    def printHello():\n",
    "        print(\"Hello\")\n",
    "    \n",
    "s1 = Student()\n",
    "s2 = Student()"
   ]
  },
  {
   "cell_type": "code",
   "execution_count": 29,
   "metadata": {},
   "outputs": [],
   "source": [
    "# s1.printHello() throws -> TypeError: printHello() takes 0 positional arguments but 1 was given\n",
    "\n",
    "# This is because s1.printHello() is interpreted as Student.printHello(s1)"
   ]
  },
  {
   "cell_type": "code",
   "execution_count": 30,
   "metadata": {},
   "outputs": [],
   "source": [
    "# To correct we can add a parameter in printHello\n",
    "# conventionally we name it as self (analogues to 'this' in Cpp)\n",
    "\n",
    "class Student:\n",
    "    ## Class attributes\n",
    "    totalStudents = 20\n",
    "    classTeacherName = 'Komal'\n",
    "    \n",
    "    ## Instance methods\n",
    "    def printHello(self):\n",
    "        print(\"Hello\")\n",
    "    \n",
    "s1 = Student()\n",
    "s2 = Student()"
   ]
  },
  {
   "cell_type": "code",
   "execution_count": 31,
   "metadata": {
    "scrolled": true
   },
   "outputs": [
    {
     "name": "stdout",
     "output_type": "stream",
     "text": [
      "Hello\n"
     ]
    }
   ],
   "source": [
    "s1.printHello()"
   ]
  },
  {
   "cell_type": "code",
   "execution_count": 32,
   "metadata": {},
   "outputs": [
    {
     "name": "stdout",
     "output_type": "stream",
     "text": [
      "Hello\n"
     ]
    }
   ],
   "source": [
    "# To call method from a Class, add any object as parameter\n",
    "\n",
    "class Student:\n",
    "    ## Class attributes\n",
    "    totalStudents = 20\n",
    "    classTeacherName = 'Komal'\n",
    "    \n",
    "    ## Instance methods\n",
    "    def printHello(self):\n",
    "        print(\"Hello\")\n",
    "    \n",
    "s1 = Student()\n",
    "s2 = Student()\n",
    "\n",
    "Student.printHello(s2)"
   ]
  },
  {
   "cell_type": "code",
   "execution_count": 37,
   "metadata": {
    "scrolled": true
   },
   "outputs": [],
   "source": [
    "class Student:\n",
    "    ## Class attributes\n",
    "    totalStudents = 20\n",
    "    classTeacherName = 'Komal'\n",
    "    \n",
    "    ## Instance methods\n",
    "    def printHello(self):\n",
    "        print(str)\n",
    "    \n",
    "    def print(self, str):\n",
    "        print(str)\n",
    "    \n",
    "    def printName(self, str):\n",
    "        print(str)\n",
    "        \n",
    "s1 = Student()\n",
    "s2 = Student()\n"
   ]
  },
  {
   "cell_type": "code",
   "execution_count": 38,
   "metadata": {},
   "outputs": [
    {
     "name": "stdout",
     "output_type": "stream",
     "text": [
      "Mohit\n"
     ]
    }
   ],
   "source": [
    "s1.name = \"Mohit\"\n",
    "s1.print(s1.name)"
   ]
  },
  {
   "cell_type": "code",
   "execution_count": null,
   "metadata": {},
   "outputs": [],
   "source": [
    "class Student:\n",
    "    ## Class attributes\n",
    "    totalStudents = 20\n",
    "    classTeacherName = 'Komal'\n",
    "    \n",
    "    ## Instance methods\n",
    "    def printHello(self):\n",
    "        print(str)\n",
    "    \n",
    "    def print(self, str):\n",
    "        print(str)\n",
    "    \n",
    "    def printName(self, str):\n",
    "        print(self.name)\n",
    "        \n",
    "s1 = Student()\n",
    "s2 = Student()"
   ]
  },
  {
   "cell_type": "code",
   "execution_count": null,
   "metadata": {},
   "outputs": [],
   "source": [
    "s1.print(s1.name)"
   ]
  }
 ],
 "metadata": {
  "kernelspec": {
   "display_name": "Python 3",
   "language": "python",
   "name": "python3"
  },
  "language_info": {
   "codemirror_mode": {
    "name": "ipython",
    "version": 3
   },
   "file_extension": ".py",
   "mimetype": "text/x-python",
   "name": "python",
   "nbconvert_exporter": "python",
   "pygments_lexer": "ipython3",
   "version": "3.6.8"
  }
 },
 "nbformat": 4,
 "nbformat_minor": 2
}
