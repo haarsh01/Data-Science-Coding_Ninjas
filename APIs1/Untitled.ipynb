{
 "cells": [
  {
   "cell_type": "code",
   "execution_count": 1,
   "id": "9af613f8",
   "metadata": {},
   "outputs": [],
   "source": [
    "## Client iD : h8VXvh5cqkqxc158Z0rwDQ\n",
    "## Client Secret : \to84phE6-FM5czMJIixl1R82oz5mKQg\n"
   ]
  },
  {
   "cell_type": "code",
   "execution_count": 2,
   "id": "ac83ed1f",
   "metadata": {},
   "outputs": [],
   "source": [
    "import requests\n",
    "import json\n"
   ]
  },
  {
   "cell_type": "code",
   "execution_count": 5,
   "id": "6a30a138",
   "metadata": {},
   "outputs": [
    {
     "name": "stdout",
     "output_type": "stream",
     "text": [
      "https://www.reddit.com/login/?dest=https%3A%2F%2Fwww.reddit.com%2Fapi%2Fv1%2Fauthorize%3Fclient_id%3D%2Bh8VXvh5cqkqxc158Z0rwDQ%26response_type%3Dcode%26state%3Drandom_122%26redirect_url%3Dhttps%253A%252F%252Fwww.google.com%252F%26scope%3Dread\n"
     ]
    }
   ],
   "source": [
    "data = {'client_id' : ' h8VXvh5cqkqxc158Z0rwDQ', 'response_type' : 'code', \n",
    "        'state' : 'random_122', 'redirect_url': 'https://www.google.com/','scope':'read' }\n",
    "response = requests.get('https://www.reddit.com/api/v1/authorize', params = data)\n",
    "print(response.url)"
   ]
  },
  {
   "cell_type": "code",
   "execution_count": 1,
   "id": "819c7714",
   "metadata": {},
   "outputs": [],
   "source": [
    "import requests\n",
    "import json"
   ]
  },
  {
   "cell_type": "code",
   "execution_count": null,
   "id": "2820836d",
   "metadata": {},
   "outputs": [],
   "source": [
    "data = requests.get('https://api.github.com/repos/google/go-cloud', auth = ('haarsh01', ''))"
   ]
  }
 ],
 "metadata": {
  "kernelspec": {
   "display_name": "Python 3",
   "language": "python",
   "name": "python3"
  },
  "language_info": {
   "codemirror_mode": {
    "name": "ipython",
    "version": 3
   },
   "file_extension": ".py",
   "mimetype": "text/x-python",
   "name": "python",
   "nbconvert_exporter": "python",
   "pygments_lexer": "ipython3",
   "version": "3.8.8"
  }
 },
 "nbformat": 4,
 "nbformat_minor": 5
}
