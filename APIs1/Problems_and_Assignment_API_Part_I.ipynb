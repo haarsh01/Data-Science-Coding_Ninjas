{
 "cells": [
  {
   "cell_type": "markdown",
   "metadata": {},
   "source": [
    "## Practice Problem on API"
   ]
  },
  {
   "cell_type": "markdown",
   "metadata": {},
   "source": [
    "### Problem 1 : Content type\n",
    "Print the content-type received after making a get request to url = https://codingninjas.in/api/v3/events  \n",
    "Note : content-type can be found in header information of response object.  "
   ]
  },
  {
   "cell_type": "code",
   "execution_count": 3,
   "metadata": {},
   "outputs": [
    {
     "name": "stdout",
     "output_type": "stream",
     "text": [
      "application/json\n"
     ]
    }
   ],
   "source": [
    "import requests\n",
    "response = requests.get('https://codingninjas.in/api/v3/events')\n",
    "\n",
    "header_info = response.headers\n",
    "print(header_info['Content-Type'])\n"
   ]
  },
  {
   "cell_type": "markdown",
   "metadata": {},
   "source": [
    "### Problem 2 : Hound sub-breeds\n",
    "Print all sub-breeds of hound by making a get request to given URL.  \n",
    "URL : https://dog.ceo/api/breeds/list/all  \n",
    "Print name of sub-breeds in different lines."
   ]
  },
  {
   "cell_type": "code",
   "execution_count": 5,
   "metadata": {},
   "outputs": [
    {
     "name": "stdout",
     "output_type": "stream",
     "text": [
      "afghan\n",
      "basset\n",
      "blood\n",
      "english\n",
      "ibizan\n",
      "plott\n",
      "walker\n"
     ]
    }
   ],
   "source": [
    "import requests\n",
    "response = requests.get('https://dog.ceo/api/breeds/list/all')\n",
    "python_data = response.json()\n",
    "\n",
    "for sub_breeds in python_data['message']['hound']:\n",
    "    print(sub_breeds)\n",
    "    "
   ]
  },
  {
   "cell_type": "markdown",
   "metadata": {},
   "source": [
    "### Problem 3 : Poodle sub breeds count\n",
    "Print the count of total sub-breeds of poodle from this URL : https://dog.ceo/api/breeds/list/all/."
   ]
  },
  {
   "cell_type": "code",
   "execution_count": 6,
   "metadata": {},
   "outputs": [
    {
     "name": "stdout",
     "output_type": "stream",
     "text": [
      "3\n"
     ]
    }
   ],
   "source": [
    "import requests\n",
    "response = requests.get('https://dog.ceo/api/breeds/list/all')\n",
    "python_data = response.json()\n",
    "\n",
    "sub_breeds = python_data['message']['poodle']\n",
    "print(len(sub_breeds))"
   ]
  },
  {
   "cell_type": "markdown",
   "metadata": {},
   "source": [
    "### Problem 4 : CN Online Courses\n",
    "Print name of all online courses offered by Coding Ninjas. You can fetch the data using their open API :  \n",
    "https://api.codingninjas.com/api/v3/courses ."
   ]
  },
  {
   "cell_type": "code",
   "execution_count": 7,
   "metadata": {},
   "outputs": [
    {
     "name": "stdout",
     "output_type": "stream",
     "text": [
      "Front End (React)\n",
      "Competitive Programmer\n",
      "Machine Learning\n",
      "C++ & Data Structures\n",
      "Android Developer\n",
      "Web Dev (Full Stack)\n",
      "Java & Data Structures\n",
      "Python & Web Dev (MERN)\n",
      "Interview Preperation\n",
      "Data Science\n",
      "C++ & Web Dev (Node.js)\n",
      "Competitive Programming\n",
      "Python & Data Structures\n",
      "Android (Kotlin)\n",
      "Data Scientist\n",
      "Aptitude Preparation\n",
      "Machine Learning\n"
     ]
    }
   ],
   "source": [
    "import requests\n",
    "response = requests.get('https://api.codingninjas.com/api/v3/courses')\n",
    "python_data = response.json()\n",
    "\n",
    "all_courses = python_data['data']['courses']\n",
    "for course in all_courses:\n",
    "    print(course['title'])"
   ]
  },
  {
   "cell_type": "markdown",
   "metadata": {},
   "source": [
    "### Problem 5 : Workshop Events\n",
    "Print description of first event from Coding Ninjas Events API\n",
    "If ther are no events in this API, then print \"No Events !\"  \n",
    "Data can be fetched from this URL : https://api.codingninjas.com/api/v3/events?event_category=ALL_EVENTS&event_sub_category=All%20Time%20Favorites&tag_list=&offset=0&_ga=2.39675747.1122709212.1600175207-398285151.1580233230"
   ]
  },
  {
   "cell_type": "code",
   "execution_count": 18,
   "metadata": {},
   "outputs": [
    {
     "name": "stdout",
     "output_type": "stream",
     "text": [
      "Run through the wave of codes smoothly and showcase your coding skills to stay ahead amongst your peers. Just for you and your college, Coding Ninjas brings to you a PAN-India Online test series 'Ninja Wave', that'll tease your brains! The test would consist of Coding as well as Aptitude MCQs.\n"
     ]
    }
   ],
   "source": [
    "import requests\n",
    "response = requests.get('https://api.codingninjas.com/api/v3/events?event_category=ALL_EVENTS&event_sub_category=All%20Time%20Favorites&tag_list=&offset=0&_ga=2.39675747.1122709212.1600175207-398285151.1580233230')\n",
    "python_data = response.json()\n",
    "\n",
    "reg_event = python_data['data']['events']\n",
    "#reg_event = reg_event['short_desc']\n",
    "if len(reg_event) == 0:\n",
    "    print('No Events !')\n",
    "else:\n",
    "    print(reg_event[0]['short_desc'])\n"
   ]
  },
  {
   "cell_type": "markdown",
   "metadata": {},
   "source": [
    "### Problem 6 : Title of course\n",
    "Print the title of course with id=19.\n",
    "URL : http://api.codingninjas.com/api/v3/courses"
   ]
  },
  {
   "cell_type": "code",
   "execution_count": 11,
   "metadata": {},
   "outputs": [
    {
     "name": "stdout",
     "output_type": "stream",
     "text": [
      "Machine Learning\n"
     ]
    }
   ],
   "source": [
    "import requests\n",
    "response = requests.get('http://api.codingninjas.com/api/v3/courses',params={\"id\":19})\n",
    "#print(response.url)\n",
    "python_data = response.json()\n",
    "#print(python_data)\n",
    "python_data=python_data['data']['courses']\n",
    "\n",
    "for i in python_data:\n",
    "    if i[\"id\"]==19:\n",
    "        print(i['title'])"
   ]
  },
  {
   "cell_type": "markdown",
   "metadata": {},
   "source": [
    "### Problem 7 : Total number of cities\n",
    "Count the total number of cities of country AU from this URL : https://api.openaq.org/v1/cities/"
   ]
  },
  {
   "cell_type": "code",
   "execution_count": 23,
   "metadata": {},
   "outputs": [
    {
     "name": "stdout",
     "output_type": "stream",
     "text": [
      "62\n"
     ]
    }
   ],
   "source": [
    "import requests\n",
    "\n",
    "response = requests.get(' https://api.openaq.org/v1/cities/',params={\"country\":'AU'})\n",
    "python_data = response.json()\n",
    "#print(response.url)\n",
    "#print(python_data)\n",
    "python_data=python_data['results']\n",
    "c=0\n",
    "for i in python_data:\n",
    "    if i['city']:\n",
    "        c+=1\n",
    "print(c)"
   ]
  },
  {
   "cell_type": "markdown",
   "metadata": {},
   "source": [
    "### Problem 8 : Cities from BE\n",
    "Print first 5 cities from country “BE”. Fetch the result from given URL.  \n",
    "Order the results by city.  \n",
    "URL - https://api.openaq.org/v1/cities  \n",
    "Documentation - https://docs.openaq.org/  "
   ]
  },
  {
   "cell_type": "code",
   "execution_count": 26,
   "metadata": {},
   "outputs": [
    {
     "name": "stdout",
     "output_type": "stream",
     "text": [
      "Antwerpen\n",
      "Brabant wallon\n",
      "Brussels\n",
      "Brussels-Capital Region\n",
      "Flanders\n"
     ]
    }
   ],
   "source": [
    "'''\n",
    "import requests\n",
    "response = requests.get(' https://api.openaq.org/v1/cities/',params={'country':'BE'})\n",
    "python_data = response.json()\n",
    "python_data=python_data['results']\n",
    "c=0\n",
    "for i in python_data:\n",
    "    print(i['city'])\n",
    "    c+=1\n",
    "    if c==5:\n",
    "        break\n",
    "'''\n",
    "\n",
    "import requests\n",
    "\n",
    "response = requests.get(' https://api.openaq.org/v1/cities/',params={'country':'BE','limit':5,'order_by':'city'})\n",
    "python_data = response.json()\n",
    "\n",
    "python_data=python_data['results']\n",
    "\n",
    "for i in python_data:\n",
    "    print(i['city'])\n"
   ]
  },
  {
   "cell_type": "markdown",
   "metadata": {},
   "source": [
    "### Problem 9 : USA WOEID\n",
    "Make an API call to -  \n",
    "https://www.metaweather.com/api/location/search/  \n",
    "\n",
    "Search for \"USA\" and print its woeid.  \n",
    "Documentation : https://www.metaweather.com/api/"
   ]
  },
  {
   "cell_type": "code",
   "execution_count": 36,
   "metadata": {},
   "outputs": [
    {
     "name": "stdout",
     "output_type": "stream",
     "text": [
      "1132447\n"
     ]
    }
   ],
   "source": [
    "import requests\n",
    "\n",
    "response = requests.get('https://www.metaweather.com/api/location/search/',params={\"query\":\"usa\"})\n",
    "python_data = response.json()\n",
    "#print(response.status_code)\n",
    "#print(response.url)\n",
    "print(python_data[0]['woeid'])"
   ]
  },
  {
   "cell_type": "markdown",
   "metadata": {},
   "source": [
    "### Problem 10 : Holiday\n",
    "Find name of holiday on 2nd October 2019 in country India.  \n",
    "You can read the documentation here : https://holidayapi.com/\n"
   ]
  },
  {
   "cell_type": "code",
   "execution_count": 46,
   "metadata": {},
   "outputs": [
    {
     "name": "stdout",
     "output_type": "stream",
     "text": [
      "Mahatma Gandhi Jayanti\n"
     ]
    }
   ],
   "source": [
    "import requests\n",
    "holiday_api_key='Enter Your api Key here'\n",
    "response = requests.get('https://holidayapi.com/v1/holidays',params = {\"key\":holiday_api_key,\"country\":\"IN\",\"year\":2019,\"month\":10,\"day\":2 })\n",
    "#print(response.url)\n",
    "#print(response.status_code)\n",
    "python_data = response.json()\n",
    "python_data=python_data['holidays']\n",
    "print(python_data[0]['name'])"
   ]
  },
  {
   "cell_type": "code",
   "execution_count": null,
   "metadata": {},
   "outputs": [],
   "source": []
  }
 ],
 "metadata": {
  "kernelspec": {
   "display_name": "Python 3",
   "language": "python",
   "name": "python3"
  },
  "language_info": {
   "codemirror_mode": {
    "name": "ipython",
    "version": 3
   },
   "file_extension": ".py",
   "mimetype": "text/x-python",
   "name": "python",
   "nbconvert_exporter": "python",
   "pygments_lexer": "ipython3",
   "version": "3.8.8"
  }
 },
 "nbformat": 4,
 "nbformat_minor": 2
}
