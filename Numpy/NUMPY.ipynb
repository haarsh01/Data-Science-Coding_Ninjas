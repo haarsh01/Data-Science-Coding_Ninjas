{
 "cells": [
  {
   "cell_type": "markdown",
   "id": "2f356508",
   "metadata": {},
   "source": [
    "# Numpy\n",
    "1. Numpy means Numerical Python\n",
    "2. Python's Linear Algebra library\n",
    "3. Gives us multi dimensional (multi-dim) array\n",
    "\n",
    "\n"
   ]
  },
  {
   "cell_type": "markdown",
   "id": "9a7520c6",
   "metadata": {},
   "source": [
    "### Why do we need Numpy ?\n",
    "1. Memory requirement: Numpy lists require less memory than Python ones, see below example.\n",
    "2. Operations on Numpy list are faster than that on normal lists.\n",
    "3. Numpy is more convenient and has wider functionality."
   ]
  },
  {
   "cell_type": "code",
   "execution_count": 10,
   "id": "36a22c47",
   "metadata": {},
   "outputs": [
    {
     "name": "stdout",
     "output_type": "stream",
     "text": [
      "[0, 1, 2, 3, 4, 5, 6, 7, 8, 9, 10, 11, 12, 13, 14, 15, 16, 17, 18, 19, 20, 21, 22, 23, 24, 25, 26, 27, 28, 29, 30, 31, 32, 33, 34, 35, 36, 37, 38, 39, 40, 41, 42, 43, 44, 45, 46, 47, 48, 49, 50, 51, 52, 53, 54, 55, 56, 57, 58, 59, 60, 61, 62, 63, 64, 65, 66, 67, 68, 69, 70, 71, 72, 73, 74, 75, 76, 77, 78, 79, 80, 81, 82, 83, 84, 85, 86, 87, 88, 89, 90, 91, 92, 93, 94, 95, 96, 97, 98, 99]\n",
      "[ 0  1  2  3  4  5  6  7  8  9 10 11 12 13 14 15 16 17 18 19 20 21 22 23\n",
      " 24 25 26 27 28 29 30 31 32 33 34 35 36 37 38 39 40 41 42 43 44 45 46 47\n",
      " 48 49 50 51 52 53 54 55 56 57 58 59 60 61 62 63 64 65 66 67 68 69 70 71\n",
      " 72 73 74 75 76 77 78 79 80 81 82 83 84 85 86 87 88 89 90 91 92 93 94 95\n",
      " 96 97 98 99]\n"
     ]
    }
   ],
   "source": [
    "# Memory requirement: Numpy lists require less memory than Python ones, see below example.\n",
    "\n",
    "import numpy as np\n",
    "\n",
    "li_arr = [i for i in range(0, 100)]\n",
    "np_arr = np.arange(100)\n",
    "\n",
    "print(li_arr)\n",
    "print(np_arr)"
   ]
  },
  {
   "cell_type": "code",
   "execution_count": 5,
   "id": "950606f1",
   "metadata": {},
   "outputs": [
    {
     "name": "stdout",
     "output_type": "stream",
     "text": [
      "4\n",
      "400\n"
     ]
    }
   ],
   "source": [
    "## Size of one element in numpy array\n",
    "print(np_arr.itemsize)\n",
    "\n",
    "## Size of 100 elements in numpy array\n",
    "print(np_arr.itemsize * np_arr.size)"
   ]
  },
  {
   "cell_type": "code",
   "execution_count": 6,
   "id": "f8502e09",
   "metadata": {},
   "outputs": [
    {
     "name": "stdout",
     "output_type": "stream",
     "text": [
      "28\n",
      "2800\n"
     ]
    }
   ],
   "source": [
    "import sys\n",
    "\n",
    "a = 10\n",
    "\n",
    "## Size req of 1 element in list\n",
    "print(sys.getsizeof(a))\n",
    "\n",
    "## Size of 100 elements in list\n",
    "print(sys.getsizeof(1) * len(li_arr))"
   ]
  },
  {
   "cell_type": "code",
   "execution_count": 8,
   "id": "489264de",
   "metadata": {},
   "outputs": [
    {
     "name": "stdout",
     "output_type": "stream",
     "text": [
      "List =  40.93122482299805\n",
      "Numpy =  2.0377635955810547\n"
     ]
    }
   ],
   "source": [
    "import numpy as np\n",
    "import time\n",
    "\n",
    "size = 100000\n",
    "\n",
    "## Addd elements of array a and b\n",
    "\n",
    "def addition_using_list():\n",
    "    t1 = time.time() # Epoch time\n",
    "    a = range(size)\n",
    "    b = np.arange(size)\n",
    "    c = [a[i] + b[i] for i in range(size)]\n",
    "    t2 = time.time()\n",
    "    return (t2 - t1)\n",
    "\n",
    "def addtion_using_numpy():\n",
    "    t1 = time.time()\n",
    "    a = np.arange(size)\n",
    "    b = np.arange(size)\n",
    "    c = a + b\n",
    "    t2 = time.time()\n",
    "    return (t2 - t1)\n",
    "\n",
    "t_list = addition_using_list()\n",
    "t_numpy = addtion_using_numpy()\n",
    "\n",
    "print('List = ', t_list * 1000) ## Time in Milliseconds\n",
    "print('Numpy = ', t_numpy * 1000) ## Time in Milliseconds"
   ]
  },
  {
   "cell_type": "markdown",
   "id": "b41cf1a1",
   "metadata": {},
   "source": [
    "## Why are Numpy arrays fast?\n",
    "In Numpy Array operations take place in chunks rather than element wise.\n",
    "\n",
    "For example in case of adding respective elements of two lists, the addition takes place in chunks and not one element at a time.\n",
    "\n",
    "### What is vectorization?\n",
    "\n",
    "\"Vectorization\" (simplified) is the process of rewriting a loop so that instead of processing a single element of an array N times, it processes (say) 4 elements of the array simultaneously N/4 times.\n",
    "\n",
    "Source: https://stackoverflow.com/questions/1422149/what-is-vectorization"
   ]
  },
  {
   "cell_type": "markdown",
   "id": "3a8d5081",
   "metadata": {},
   "source": [
    "### How to create Numpy Arrays ?"
   ]
  },
  {
   "cell_type": "code",
   "execution_count": 7,
   "id": "a2f16899",
   "metadata": {},
   "outputs": [
    {
     "name": "stdout",
     "output_type": "stream",
     "text": [
      "[1, 2, 3]\n",
      "<class 'numpy.ndarray'>\n"
     ]
    }
   ],
   "source": [
    "import numpy as np # np becomes alias for numpy\n",
    "#Syntax for numpy array -> np.array(arraylike, ..,)\n",
    "\n",
    "a = [1,2,3]\n",
    "b = np.array(a)\n",
    "\n",
    "print(a)\n",
    "print(type(b))"
   ]
  },
  {
   "cell_type": "code",
   "execution_count": 10,
   "id": "985c89f2",
   "metadata": {},
   "outputs": [
    {
     "name": "stdout",
     "output_type": "stream",
     "text": [
      "['1' '2' '3' '5' 'a']\n"
     ]
    }
   ],
   "source": [
    "a =[1,2,3,'5', 'a']\n",
    "b = np.array(a) # Numpy array can contain only homogenous elements ie elements of same type\n",
    "# Hence here each element converts to string\n",
    "\n",
    "print(b)"
   ]
  },
  {
   "cell_type": "code",
   "execution_count": 11,
   "id": "9454e251",
   "metadata": {},
   "outputs": [
    {
     "name": "stdout",
     "output_type": "stream",
     "text": [
      "[1 2 3 5]\n"
     ]
    }
   ],
   "source": [
    "a = [1, 2, 3, '5']\n",
    "b = np.array(a, dtype = int) # We can specify the data-type for the numpy array elements\n",
    "\n",
    "print(b)"
   ]
  },
  {
   "cell_type": "code",
   "execution_count": 12,
   "id": "4d4abbb7",
   "metadata": {},
   "outputs": [
    {
     "name": "stdout",
     "output_type": "stream",
     "text": [
      "['1' '2' '3' '5' '1' '2' '3' '5' '1' '2' '3' '5']\n"
     ]
    }
   ],
   "source": [
    "a = [1, 2, 3, '5']\n",
    "\n",
    "b = np.array(a*3) # A numpy array with 3 copies\n",
    "\n",
    "print(b)"
   ]
  },
  {
   "cell_type": "code",
   "execution_count": 13,
   "id": "679c8063",
   "metadata": {},
   "outputs": [
    {
     "data": {
      "text/plain": [
       "array([1., 1., 1.])"
      ]
     },
     "execution_count": 13,
     "metadata": {},
     "output_type": "execute_result"
    }
   ],
   "source": [
    "b = np.ones(3)\n",
    "b"
   ]
  },
  {
   "cell_type": "code",
   "execution_count": 14,
   "id": "210b2551",
   "metadata": {},
   "outputs": [
    {
     "data": {
      "text/plain": [
       "array([1, 1, 1])"
      ]
     },
     "execution_count": 14,
     "metadata": {},
     "output_type": "execute_result"
    }
   ],
   "source": [
    "b = np.ones(3, dtype = int)\n",
    "b"
   ]
  },
  {
   "cell_type": "code",
   "execution_count": 15,
   "id": "5c9ebae4",
   "metadata": {},
   "outputs": [
    {
     "data": {
      "text/plain": [
       "array([0., 0., 0.])"
      ]
     },
     "execution_count": 15,
     "metadata": {},
     "output_type": "execute_result"
    }
   ],
   "source": [
    "b = np.zeros(3)\n",
    "b"
   ]
  },
  {
   "cell_type": "code",
   "execution_count": 16,
   "id": "fdc57534",
   "metadata": {},
   "outputs": [
    {
     "data": {
      "text/plain": [
       "array([0, 0, 0])"
      ]
     },
     "execution_count": 16,
     "metadata": {},
     "output_type": "execute_result"
    }
   ],
   "source": [
    "b = np.zeros(3, dtype = int)\n",
    "b\n"
   ]
  },
  {
   "cell_type": "code",
   "execution_count": 17,
   "id": "8095bb2a",
   "metadata": {},
   "outputs": [
    {
     "data": {
      "text/plain": [
       "array([4.24399158e-314, 1.06099790e-313])"
      ]
     },
     "execution_count": 17,
     "metadata": {},
     "output_type": "execute_result"
    }
   ],
   "source": [
    "b = np.empty(2)\n",
    "b"
   ]
  },
  {
   "cell_type": "markdown",
   "id": "f9d81a46",
   "metadata": {},
   "source": [
    "### 2 D Array"
   ]
  },
  {
   "cell_type": "code",
   "execution_count": 18,
   "id": "d5a719e9",
   "metadata": {},
   "outputs": [
    {
     "data": {
      "text/plain": [
       "array([[1, 1, 1, 1],\n",
       "       [1, 1, 1, 1]])"
      ]
     },
     "execution_count": 18,
     "metadata": {},
     "output_type": "execute_result"
    }
   ],
   "source": [
    "b = np.ones((2, 4), dtype =int)\n",
    "b\n"
   ]
  },
  {
   "cell_type": "code",
   "execution_count": 19,
   "id": "e168ab4a",
   "metadata": {},
   "outputs": [
    {
     "data": {
      "text/plain": [
       "array([5, 5, 5])"
      ]
     },
     "execution_count": 19,
     "metadata": {},
     "output_type": "execute_result"
    }
   ],
   "source": [
    "b = np.full(3, 5)\n",
    "b"
   ]
  },
  {
   "cell_type": "code",
   "execution_count": 20,
   "id": "689a3902",
   "metadata": {},
   "outputs": [
    {
     "data": {
      "text/plain": [
       "array([5., 5., 5.])"
      ]
     },
     "execution_count": 20,
     "metadata": {},
     "output_type": "execute_result"
    }
   ],
   "source": [
    "b = np.full(3, 5, dtype = float)\n",
    "b\n"
   ]
  },
  {
   "cell_type": "code",
   "execution_count": 8,
   "id": "6bf07511",
   "metadata": {},
   "outputs": [
    {
     "data": {
      "text/plain": [
       "array([[5, 5, 5, 5],\n",
       "       [5, 5, 5, 5],\n",
       "       [5, 5, 5, 5]])"
      ]
     },
     "execution_count": 8,
     "metadata": {},
     "output_type": "execute_result"
    }
   ],
   "source": [
    "b = np.full((3,4), 5)\n",
    "b"
   ]
  },
  {
   "cell_type": "markdown",
   "id": "91aba82e",
   "metadata": {},
   "source": [
    "### Q. Create an integer array of size 10, where all the values should be 0 but the fifth value be 1."
   ]
  },
  {
   "cell_type": "code",
   "execution_count": 22,
   "id": "ee237836",
   "metadata": {},
   "outputs": [
    {
     "name": "stdout",
     "output_type": "stream",
     "text": [
      "[0. 0. 0. 0. 0. 0. 0. 0. 0. 0.]\n",
      "[0. 0. 0. 0. 0. 1. 0. 0. 0. 0.]\n"
     ]
    }
   ],
   "source": [
    "import numpy as np\n",
    "x = np.zeros(10)\n",
    "print(x)\n",
    "x[5] = 1\n",
    "print(x)"
   ]
  },
  {
   "cell_type": "markdown",
   "id": "1ce2f3a1",
   "metadata": {},
   "source": [
    "## numpy.arange\n",
    "#### numpy.arange([start, ]stop, [step, ]dtype=None)\n",
    "\n",
    "Return evenly spaced values within a given interval. Values are generated within the half-open interval [start, stop).\n",
    "\n",
    "For integer arguments the function is equivalent to the Python built-in range function, but returns an ndarray rather than a list. When using a non-integer step, such as 0.1, the results will often not be consistent. It is better to use numpy.linspace for these cases.\n",
    "\n",
    "### Parameters\n",
    "\n",
    "#### start : number, optional\n",
    "\n",
    "Start of interval. The interval includes this value. The default start value is 0.\n",
    "\n",
    "#### stop : number\n",
    "\n",
    "End of interval. The interval does not include this value, except in some cases where step is not an integer and floating point round-off affects the length of out.\n",
    "\n",
    "#### step : number, optional\n",
    "\n",
    "Spacing between values. For any output out, this is the distance between two adjacent values, out[i+1] - out[i]. The default step size is 1. If step is specified as a position argument, start must also be given.\n",
    "\n",
    "#### dtype : dtype\n",
    "\n",
    "The type of the output array. If dtype is not given, infer the data type from the other input arguments.\n",
    "\n",
    "#### Returns\n",
    "\n",
    "#### arange : ndarray\n",
    "\n",
    "Array of evenly spaced values.\n",
    "\n",
    "For floating point arguments, the length of the result is ceil((stop - start)/step). Because of floating point overflow, this rule may result in the last element of out being greater than stop."
   ]
  },
  {
   "cell_type": "code",
   "execution_count": 12,
   "id": "f99739d8",
   "metadata": {},
   "outputs": [
    {
     "data": {
      "text/plain": [
       "array([0, 1, 2, 3, 4, 5, 6, 7, 8, 9])"
      ]
     },
     "execution_count": 12,
     "metadata": {},
     "output_type": "execute_result"
    }
   ],
   "source": [
    "b = np.arange(10)\n",
    "b"
   ]
  },
  {
   "cell_type": "code",
   "execution_count": 15,
   "id": "bbbe62a5",
   "metadata": {},
   "outputs": [
    {
     "data": {
      "text/plain": [
       "array([2, 3, 4, 5, 6, 7, 8, 9])"
      ]
     },
     "execution_count": 15,
     "metadata": {},
     "output_type": "execute_result"
    }
   ],
   "source": [
    "b = np.arange(2, 10)\n",
    "b"
   ]
  },
  {
   "cell_type": "code",
   "execution_count": 17,
   "id": "adf4003d",
   "metadata": {},
   "outputs": [
    {
     "data": {
      "text/plain": [
       "array([ 2,  4,  6,  8, 10, 12, 14, 16, 18])"
      ]
     },
     "execution_count": 17,
     "metadata": {},
     "output_type": "execute_result"
    }
   ],
   "source": [
    "b = np.arange(2,20,2)\n",
    "b"
   ]
  },
  {
   "cell_type": "markdown",
   "id": "f1034388",
   "metadata": {},
   "source": [
    "### numpy.linspace\n",
    "#### numpy.linspace(start, stop, num=50, endpoint=True, retstep=False, dtype=None, axis=0)\n",
    "\n",
    "Return evenly spaced numbers over a specified interval.\n",
    "\n",
    "Returns num evenly spaced samples, calculated over the interval [start, stop].\n",
    "\n",
    "The endpoint of the interval can optionally be excluded.\n",
    "\n",
    "#### Parameters\n",
    "\n",
    "#### start : array_like\n",
    "\n",
    "The starting value of the sequence.\n",
    "\n",
    "#### stop : array_like\n",
    "\n",
    "The end value of the sequence, unless endpoint is set to False. In that case, the sequence consists of all but the last of num + 1 evenly spaced samples, so that stop is excluded. Note that the step size changes when endpoint is False.\n",
    "\n",
    "#### num : int, optional\n",
    "\n",
    "Number of samples to generate. Default is 50. Must be non-negative.\n",
    "\n",
    "#### endpoint : bool, optional\n",
    "\n",
    "If True, stop is the last sample. Otherwise, it is not included. Default is True.\n",
    "\n",
    "#### retstep : bool, optional\n",
    "\n",
    "If True, return (samples, step), where step is the spacing between samples.\n",
    "\n",
    "#### dtype : dtype, optional\n",
    "\n",
    "The type of the output array. If dtype is not given, infer the data type from the other input arguments.\n",
    "\n",
    "#### axis : int, optional\n",
    "\n",
    "The axis in the result to store the samples. Relevant only if start or stop are array-like. By default (0), the samples will be along a new axis inserted at the beginning. Use -1 to get an axis at the end.\n",
    "\n",
    "#### Returns:\n",
    "\n",
    "#### samples : ndarray\n",
    "\n",
    "There are num equally spaced samples in the closed interval [start, stop] or the half-open interval [start, stop) (depending on whether endpoint is True or False).\n",
    "\n",
    "#### step : float, optional\n",
    "\n",
    "Only returned if retstep is True. Size of spacing between samples."
   ]
  },
  {
   "cell_type": "code",
   "execution_count": 18,
   "id": "9b65f512",
   "metadata": {},
   "outputs": [
    {
     "data": {
      "text/plain": [
       "array([ 2.        ,  2.16326531,  2.32653061,  2.48979592,  2.65306122,\n",
       "        2.81632653,  2.97959184,  3.14285714,  3.30612245,  3.46938776,\n",
       "        3.63265306,  3.79591837,  3.95918367,  4.12244898,  4.28571429,\n",
       "        4.44897959,  4.6122449 ,  4.7755102 ,  4.93877551,  5.10204082,\n",
       "        5.26530612,  5.42857143,  5.59183673,  5.75510204,  5.91836735,\n",
       "        6.08163265,  6.24489796,  6.40816327,  6.57142857,  6.73469388,\n",
       "        6.89795918,  7.06122449,  7.2244898 ,  7.3877551 ,  7.55102041,\n",
       "        7.71428571,  7.87755102,  8.04081633,  8.20408163,  8.36734694,\n",
       "        8.53061224,  8.69387755,  8.85714286,  9.02040816,  9.18367347,\n",
       "        9.34693878,  9.51020408,  9.67346939,  9.83673469, 10.        ])"
      ]
     },
     "execution_count": 18,
     "metadata": {},
     "output_type": "execute_result"
    }
   ],
   "source": [
    "b = np.linspace(2, 10)\n",
    "b"
   ]
  },
  {
   "cell_type": "code",
   "execution_count": 19,
   "id": "231c8bc4",
   "metadata": {},
   "outputs": [
    {
     "name": "stdout",
     "output_type": "stream",
     "text": [
      "0.16326530612244872\n",
      "0.16326530612244872\n"
     ]
    }
   ],
   "source": [
    "print(b[2] - b[1]) #checking step\n",
    "print(b[4] - b[3])"
   ]
  },
  {
   "cell_type": "code",
   "execution_count": 20,
   "id": "9ccc4db7",
   "metadata": {},
   "outputs": [
    {
     "data": {
      "text/plain": [
       "array([ 2,  4,  6,  8, 10])"
      ]
     },
     "execution_count": 20,
     "metadata": {},
     "output_type": "execute_result"
    }
   ],
   "source": [
    "b = np.linspace(2, 10, 5,dtype = int) #endpoint by default included\n",
    "b"
   ]
  },
  {
   "cell_type": "code",
   "execution_count": 21,
   "id": "0bdcba80",
   "metadata": {},
   "outputs": [
    {
     "data": {
      "text/plain": [
       "array([2, 3, 5, 6, 8])"
      ]
     },
     "execution_count": 21,
     "metadata": {},
     "output_type": "execute_result"
    }
   ],
   "source": [
    "b = np.linspace(2, 10, 5, dtype = int, endpoint = False)\n",
    "b"
   ]
  },
  {
   "cell_type": "code",
   "execution_count": 22,
   "id": "de465ec4",
   "metadata": {},
   "outputs": [
    {
     "data": {
      "text/plain": [
       "array([[1., 0., 0.],\n",
       "       [0., 1., 0.],\n",
       "       [0., 0., 1.]])"
      ]
     },
     "execution_count": 22,
     "metadata": {},
     "output_type": "execute_result"
    }
   ],
   "source": [
    "b = np.identity(3) # Only get square matrices (n*n)\n",
    "b"
   ]
  },
  {
   "cell_type": "code",
   "execution_count": 23,
   "id": "36a6a626",
   "metadata": {},
   "outputs": [
    {
     "data": {
      "text/plain": [
       "array([[1., 0., 0., 0.],\n",
       "       [0., 1., 0., 0.],\n",
       "       [0., 0., 1., 0.]])"
      ]
     },
     "execution_count": 23,
     "metadata": {},
     "output_type": "execute_result"
    }
   ],
   "source": [
    "b = np.eye(3, 4) # Can get n*m matrices\n",
    "b"
   ]
  },
  {
   "cell_type": "code",
   "execution_count": 24,
   "id": "203bf2ab",
   "metadata": {},
   "outputs": [
    {
     "data": {
      "text/plain": [
       "array([0.0630782 , 0.92074791, 0.63412916])"
      ]
     },
     "execution_count": 24,
     "metadata": {},
     "output_type": "execute_result"
    }
   ],
   "source": [
    "b = np.random.rand(3) # Created over range (0,1)\n",
    "b"
   ]
  },
  {
   "cell_type": "code",
   "execution_count": 25,
   "id": "b2a78e2e",
   "metadata": {},
   "outputs": [
    {
     "data": {
      "text/plain": [
       "array([[0.56720546, 0.02501781, 0.78601754],\n",
       "       [0.53364799, 0.13659849, 0.65480883]])"
      ]
     },
     "execution_count": 25,
     "metadata": {},
     "output_type": "execute_result"
    }
   ],
   "source": [
    "b = np.random.rand(2,3)\n",
    "b"
   ]
  },
  {
   "cell_type": "code",
   "execution_count": 26,
   "id": "000a10ff",
   "metadata": {},
   "outputs": [
    {
     "data": {
      "text/plain": [
       "array([0.18760575, 1.12431172, 0.67939032, 7.66525013, 2.5473836 ,\n",
       "       0.93151242, 3.34524524, 1.11186615, 1.45764197, 4.15958842])"
      ]
     },
     "execution_count": 26,
     "metadata": {},
     "output_type": "execute_result"
    }
   ],
   "source": [
    "b = np.random.rand(10)*10\n",
    "b"
   ]
  },
  {
   "cell_type": "code",
   "execution_count": 27,
   "id": "791a9bd2",
   "metadata": {},
   "outputs": [
    {
     "data": {
      "text/plain": [
       "array([3, 2, 1, 0, 2, 0, 1, 2, 3, 0])"
      ]
     },
     "execution_count": 27,
     "metadata": {},
     "output_type": "execute_result"
    }
   ],
   "source": [
    "np.random.randint(6, size=10)"
   ]
  },
  {
   "cell_type": "code",
   "execution_count": 28,
   "id": "1487a29d",
   "metadata": {},
   "outputs": [
    {
     "data": {
      "text/plain": [
       "array([[3, 4, 0],\n",
       "       [2, 4, 1],\n",
       "       [1, 0, 0],\n",
       "       [4, 4, 1]])"
      ]
     },
     "execution_count": 28,
     "metadata": {},
     "output_type": "execute_result"
    }
   ],
   "source": [
    "np.random.randint(6, size=(4,3))"
   ]
  },
  {
   "cell_type": "markdown",
   "id": "bca3997e",
   "metadata": {},
   "source": [
    "#### Indexing and Slicing in Numpy Array\n",
    "- Numpy array is a collection of references which point to 4 different attributes.\n",
    "- data => reference to first byte/element of the array\n",
    "- shape => represents size of the array\n",
    "- dtype => represents dtype of elements present in array\n",
    "- strides => represent number bytes to be skipped to get to next element"
   ]
  },
  {
   "cell_type": "code",
   "execution_count": 29,
   "id": "5d612676",
   "metadata": {},
   "outputs": [
    {
     "name": "stdout",
     "output_type": "stream",
     "text": [
      "[1, 2, 3, 4, 5]\n",
      "[1 2 3 4 5]\n"
     ]
    }
   ],
   "source": [
    "li = [1,2,3,4,5]\n",
    "arr = np.array(li)\n",
    "\n",
    "print(li)\n",
    "print(arr)"
   ]
  },
  {
   "cell_type": "code",
   "execution_count": 30,
   "id": "70b48fe3",
   "metadata": {},
   "outputs": [
    {
     "name": "stdout",
     "output_type": "stream",
     "text": [
      "<memory at 0x000001EA554B9400>\n",
      "(5,)\n",
      "int32\n",
      "(4,)\n"
     ]
    }
   ],
   "source": [
    "print(arr.data)\n",
    "print(arr.shape)\n",
    "print(arr.dtype)\n",
    "print(arr.strides)"
   ]
  },
  {
   "cell_type": "code",
   "execution_count": 31,
   "id": "f6efd39b",
   "metadata": {},
   "outputs": [
    {
     "name": "stdout",
     "output_type": "stream",
     "text": [
      "4\n",
      "4\n",
      "[2, 3, 4]\n",
      "[2 3 4]\n"
     ]
    }
   ],
   "source": [
    "# Accessing and slicing elements in 1D are similar in numpy arrays and lists\n",
    "print(li[3])\n",
    "print(arr[3])\n",
    "\n",
    "print(li[1:4])\n",
    "print(arr[1:4])"
   ]
  },
  {
   "cell_type": "code",
   "execution_count": 32,
   "id": "b34f2cfb",
   "metadata": {},
   "outputs": [
    {
     "data": {
      "text/plain": [
       "[[1, 2, 3, 4], [5, 6, 7, 8], [9, 10, 11, 12], [13, 14, 15, 16]]"
      ]
     },
     "execution_count": 32,
     "metadata": {},
     "output_type": "execute_result"
    }
   ],
   "source": [
    "li_2d = [[i+4*j+1 for i in range(4)] for j in range(4)]\n",
    "li_2d"
   ]
  },
  {
   "cell_type": "code",
   "execution_count": 34,
   "id": "bb3d88c1",
   "metadata": {},
   "outputs": [
    {
     "name": "stdout",
     "output_type": "stream",
     "text": [
      "[[ 1  2  3  4]\n",
      " [ 5  6  7  8]\n",
      " [ 9 10 11 12]\n",
      " [13 14 15 16]]\n"
     ]
    }
   ],
   "source": [
    "arr_2d = np.array(li_2d)\n",
    "print(arr_2d)"
   ]
  },
  {
   "cell_type": "code",
   "execution_count": 35,
   "id": "f5a1f76e",
   "metadata": {},
   "outputs": [
    {
     "name": "stdout",
     "output_type": "stream",
     "text": [
      "<memory at 0x000001EA554A0930>\n",
      "(4, 4)\n",
      "int32\n",
      "(16, 4)\n"
     ]
    }
   ],
   "source": [
    "print(arr_2d.data)\n",
    "print(arr_2d.shape)\n",
    "print(arr_2d.dtype)\n",
    "print(arr_2d.strides) # (32, 8) 32 to skip to next row, 8 to skip to next element in a row"
   ]
  },
  {
   "cell_type": "code",
   "execution_count": 36,
   "id": "d5330116",
   "metadata": {},
   "outputs": [
    {
     "name": "stdout",
     "output_type": "stream",
     "text": [
      "10\n",
      "10\n",
      "10\n"
     ]
    }
   ],
   "source": [
    "# Accessing element in 2D array\n",
    "print(li_2d[2][1])\n",
    "print(arr_2d[2][1])\n",
    "# Alternatively in Numpy we can also write as [a, b]\n",
    "print(arr_2d[2,1])\n"
   ]
  },
  {
   "cell_type": "code",
   "execution_count": 37,
   "id": "92401d17",
   "metadata": {},
   "outputs": [
    {
     "name": "stdout",
     "output_type": "stream",
     "text": [
      "[5, 6, 7]\n",
      "[5 6 7]\n",
      "Wrong Answer [9, 10, 11, 12]\n",
      "Correct Answer [3, 7, 11, 15]\n",
      "Numpy way [ 3  7 11 15]\n"
     ]
    }
   ],
   "source": [
    "# Slicing elements from 2D array \n",
    "\n",
    "# Elements in a row\n",
    "print(li_2d[1][:3])\n",
    "print(arr_2d[1, :3])\n",
    "\n",
    "# Elements column-wise\n",
    "print(\"Wrong Answer\", li_2d[0:4][2]) #Unable to produce desirable output\n",
    "li_temp = [i[2] for i in li_2d]\n",
    "print(\"Correct Answer\", li_temp)# Correct way\n",
    "# Numpy way\n",
    "\n",
    "print(\"Numpy way\", arr_2d[0:4, 2])\n"
   ]
  },
  {
   "cell_type": "code",
   "execution_count": 38,
   "id": "bbf08fd1",
   "metadata": {},
   "outputs": [
    {
     "name": "stdout",
     "output_type": "stream",
     "text": [
      "[[10 11]\n",
      " [14 15]]\n"
     ]
    }
   ],
   "source": [
    "# More slicing with Numpy -> get 10, 11, 14, 15 from the array\n",
    "\n",
    "print(arr_2d[2:4, 1:3])"
   ]
  },
  {
   "cell_type": "code",
   "execution_count": null,
   "id": "7ba33de8",
   "metadata": {},
   "outputs": [],
   "source": []
  }
 ],
 "metadata": {
  "kernelspec": {
   "display_name": "Python 3",
   "language": "python",
   "name": "python3"
  },
  "language_info": {
   "codemirror_mode": {
    "name": "ipython",
    "version": 3
   },
   "file_extension": ".py",
   "mimetype": "text/x-python",
   "name": "python",
   "nbconvert_exporter": "python",
   "pygments_lexer": "ipython3",
   "version": "3.8.8"
  }
 },
 "nbformat": 4,
 "nbformat_minor": 5
}
