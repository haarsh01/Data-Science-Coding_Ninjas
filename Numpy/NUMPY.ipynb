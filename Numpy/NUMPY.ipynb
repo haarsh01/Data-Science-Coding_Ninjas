{
 "cells": [
  {
   "cell_type": "markdown",
   "id": "2f356508",
   "metadata": {},
   "source": [
    "# Numpy\n",
    "1. Numpy means Numerical Python\n",
    "2. Python's Linear Algebra library\n",
    "3. Gives us multi dimensional (multi-dim) array\n",
    "\n",
    "\n"
   ]
  },
  {
   "cell_type": "markdown",
   "id": "9a7520c6",
   "metadata": {},
   "source": [
    "### Why do we need Numpy ?\n",
    "1. Memory requirement: Numpy lists require less memory than Python ones, see below example.\n",
    "2. Operations on Numpy list are faster than that on normal lists.\n",
    "3. Numpy is more convenient and has wider functionality."
   ]
  },
  {
   "cell_type": "code",
   "execution_count": 5,
   "id": "36a22c47",
   "metadata": {},
   "outputs": [
    {
     "name": "stdout",
     "output_type": "stream",
     "text": [
      "[0, 1, 2, 3, 4, 5, 6, 7, 8, 9, 10, 11, 12, 13, 14, 15, 16, 17, 18, 19, 20, 21, 22, 23, 24, 25, 26, 27, 28, 29, 30, 31, 32, 33, 34, 35, 36, 37, 38, 39, 40, 41, 42, 43, 44, 45, 46, 47, 48, 49, 50, 51, 52, 53, 54, 55, 56, 57, 58, 59, 60, 61, 62, 63, 64, 65, 66, 67, 68, 69, 70, 71, 72, 73, 74, 75, 76, 77, 78, 79, 80, 81, 82, 83, 84, 85, 86, 87, 88, 89, 90, 91, 92, 93, 94, 95, 96, 97, 98, 99]\n",
      "[ 0  1  2  3  4  5  6  7  8  9 10 11 12 13 14 15 16 17 18 19 20 21 22 23\n",
      " 24 25 26 27 28 29 30 31 32 33 34 35 36 37 38 39 40 41 42 43 44 45 46 47\n",
      " 48 49 50 51 52 53 54 55 56 57 58 59 60 61 62 63 64 65 66 67 68 69 70 71\n",
      " 72 73 74 75 76 77 78 79 80 81 82 83 84 85 86 87 88 89 90 91 92 93 94 95\n",
      " 96 97 98 99]\n"
     ]
    }
   ],
   "source": [
    "# Memory requirement: Numpy lists require less memory than Python ones, see below example.\n",
    "\n",
    "import numpy as np\n",
    "\n",
    "li_arr = [i for i in range(0, 100)]\n",
    "np_arr = np.arange(100)\n",
    "\n",
    "print(li_arr)\n",
    "print(np_arr)"
   ]
  },
  {
   "cell_type": "code",
   "execution_count": 6,
   "id": "950606f1",
   "metadata": {},
   "outputs": [
    {
     "name": "stdout",
     "output_type": "stream",
     "text": [
      "4\n",
      "400\n"
     ]
    }
   ],
   "source": [
    "## Size of one element in numpy array\n",
    "print(np_arr.itemsize)\n",
    "\n",
    "## Size of 100 elements in numpy array\n",
    "print(np_arr.itemsize * np_arr.size)"
   ]
  },
  {
   "cell_type": "code",
   "execution_count": 7,
   "id": "f8502e09",
   "metadata": {},
   "outputs": [
    {
     "name": "stdout",
     "output_type": "stream",
     "text": [
      "28\n",
      "2800\n"
     ]
    }
   ],
   "source": [
    "import sys\n",
    "\n",
    "a = 10\n",
    "\n",
    "## Size req of 1 element in list\n",
    "print(sys.getsizeof(a))\n",
    "\n",
    "## Size of 100 elements in list\n",
    "print(sys.getsizeof(1) * len(li_arr))"
   ]
  },
  {
   "cell_type": "code",
   "execution_count": 8,
   "id": "489264de",
   "metadata": {},
   "outputs": [
    {
     "name": "stdout",
     "output_type": "stream",
     "text": [
      "List =  40.93122482299805\n",
      "Numpy =  2.0377635955810547\n"
     ]
    }
   ],
   "source": [
    "import numpy as np\n",
    "import time\n",
    "\n",
    "size = 100000\n",
    "\n",
    "## Addd elements of array a and b\n",
    "\n",
    "def addition_using_list():\n",
    "    t1 = time.time() # Epoch time\n",
    "    a = range(size)\n",
    "    b = np.arange(size)\n",
    "    c = [a[i] + b[i] for i in range(size)]\n",
    "    t2 = time.time()\n",
    "    return (t2 - t1)\n",
    "\n",
    "def addtion_using_numpy():\n",
    "    t1 = time.time()\n",
    "    a = np.arange(size)\n",
    "    b = np.arange(size)\n",
    "    c = a + b\n",
    "    t2 = time.time()\n",
    "    return (t2 - t1)\n",
    "\n",
    "t_list = addition_using_list()\n",
    "t_numpy = addtion_using_numpy()\n",
    "\n",
    "print('List = ', t_list * 1000) ## Time in Milliseconds\n",
    "print('Numpy = ', t_numpy * 1000) ## Time in Milliseconds"
   ]
  },
  {
   "cell_type": "markdown",
   "id": "b41cf1a1",
   "metadata": {},
   "source": [
    "## Why are Numpy arrays fast?\n",
    "In Numpy Array operations take place in chunks rather than element wise.\n",
    "\n",
    "For example in case of adding respective elements of two lists, the addition takes place in chunks and not one element at a time.\n",
    "\n",
    "### What is vectorization?\n",
    "\n",
    "\"Vectorization\" (simplified) is the process of rewriting a loop so that instead of processing a single element of an array N times, it processes (say) 4 elements of the array simultaneously N/4 times.\n",
    "\n",
    "Source: https://stackoverflow.com/questions/1422149/what-is-vectorization"
   ]
  },
  {
   "cell_type": "markdown",
   "id": "3a8d5081",
   "metadata": {},
   "source": [
    "### How to create Numpy Arrays ?"
   ]
  },
  {
   "cell_type": "code",
   "execution_count": 9,
   "id": "a2f16899",
   "metadata": {},
   "outputs": [
    {
     "name": "stdout",
     "output_type": "stream",
     "text": [
      "[1, 2, 3]\n",
      "<class 'numpy.ndarray'>\n"
     ]
    }
   ],
   "source": [
    "import numpy as np # np becomes alias for numpy\n",
    "#Syntax for numpy array -> np.array(arraylike, ..,)\n",
    "\n",
    "a = [1,2,3]\n",
    "b = np.array(a)\n",
    "\n",
    "print(a)\n",
    "print(type(b))"
   ]
  },
  {
   "cell_type": "code",
   "execution_count": 10,
   "id": "985c89f2",
   "metadata": {},
   "outputs": [
    {
     "name": "stdout",
     "output_type": "stream",
     "text": [
      "['1' '2' '3' '5' 'a']\n"
     ]
    }
   ],
   "source": [
    "a =[1,2,3,'5', 'a']\n",
    "b = np.array(a) # Numpy array can contain only homogenous elements ie elements of same type\n",
    "# Hence here each element converts to string\n",
    "\n",
    "print(b)"
   ]
  },
  {
   "cell_type": "code",
   "execution_count": 11,
   "id": "9454e251",
   "metadata": {},
   "outputs": [
    {
     "name": "stdout",
     "output_type": "stream",
     "text": [
      "[1 2 3 5]\n"
     ]
    }
   ],
   "source": [
    "a = [1, 2, 3, '5']\n",
    "b = np.array(a, dtype = int) # We can specify the data-type for the numpy array elements\n",
    "\n",
    "print(b)"
   ]
  },
  {
   "cell_type": "code",
   "execution_count": 12,
   "id": "4d4abbb7",
   "metadata": {},
   "outputs": [
    {
     "name": "stdout",
     "output_type": "stream",
     "text": [
      "['1' '2' '3' '5' '1' '2' '3' '5' '1' '2' '3' '5']\n"
     ]
    }
   ],
   "source": [
    "a = [1, 2, 3, '5']\n",
    "\n",
    "b = np.array(a*3) # A numpy array with 3 copies\n",
    "\n",
    "print(b)"
   ]
  },
  {
   "cell_type": "code",
   "execution_count": 13,
   "id": "679c8063",
   "metadata": {},
   "outputs": [
    {
     "data": {
      "text/plain": [
       "array([1., 1., 1.])"
      ]
     },
     "execution_count": 13,
     "metadata": {},
     "output_type": "execute_result"
    }
   ],
   "source": [
    "b = np.ones(3)\n",
    "b"
   ]
  },
  {
   "cell_type": "code",
   "execution_count": 14,
   "id": "210b2551",
   "metadata": {},
   "outputs": [
    {
     "data": {
      "text/plain": [
       "array([1, 1, 1])"
      ]
     },
     "execution_count": 14,
     "metadata": {},
     "output_type": "execute_result"
    }
   ],
   "source": [
    "b = np.ones(3, dtype = int)\n",
    "b"
   ]
  },
  {
   "cell_type": "code",
   "execution_count": 15,
   "id": "5c9ebae4",
   "metadata": {},
   "outputs": [
    {
     "data": {
      "text/plain": [
       "array([0., 0., 0.])"
      ]
     },
     "execution_count": 15,
     "metadata": {},
     "output_type": "execute_result"
    }
   ],
   "source": [
    "b = np.zeros(3)\n",
    "b"
   ]
  },
  {
   "cell_type": "code",
   "execution_count": 16,
   "id": "fdc57534",
   "metadata": {},
   "outputs": [
    {
     "data": {
      "text/plain": [
       "array([0, 0, 0])"
      ]
     },
     "execution_count": 16,
     "metadata": {},
     "output_type": "execute_result"
    }
   ],
   "source": [
    "b = np.zeros(3, dtype = int)\n",
    "b\n"
   ]
  },
  {
   "cell_type": "code",
   "execution_count": 17,
   "id": "8095bb2a",
   "metadata": {},
   "outputs": [
    {
     "data": {
      "text/plain": [
       "array([4.24399158e-314, 1.06099790e-313])"
      ]
     },
     "execution_count": 17,
     "metadata": {},
     "output_type": "execute_result"
    }
   ],
   "source": [
    "b = np.empty(2)\n",
    "b"
   ]
  },
  {
   "cell_type": "markdown",
   "id": "f9d81a46",
   "metadata": {},
   "source": [
    "### 2 D Array"
   ]
  },
  {
   "cell_type": "code",
   "execution_count": 18,
   "id": "d5a719e9",
   "metadata": {},
   "outputs": [
    {
     "data": {
      "text/plain": [
       "array([[1, 1, 1, 1],\n",
       "       [1, 1, 1, 1]])"
      ]
     },
     "execution_count": 18,
     "metadata": {},
     "output_type": "execute_result"
    }
   ],
   "source": [
    "b = np.ones((2, 4), dtype =int)\n",
    "b\n"
   ]
  },
  {
   "cell_type": "code",
   "execution_count": 19,
   "id": "e168ab4a",
   "metadata": {},
   "outputs": [
    {
     "data": {
      "text/plain": [
       "array([5, 5, 5])"
      ]
     },
     "execution_count": 19,
     "metadata": {},
     "output_type": "execute_result"
    }
   ],
   "source": [
    "b = np.full(3, 5)\n",
    "b"
   ]
  },
  {
   "cell_type": "code",
   "execution_count": 20,
   "id": "689a3902",
   "metadata": {},
   "outputs": [
    {
     "data": {
      "text/plain": [
       "array([5., 5., 5.])"
      ]
     },
     "execution_count": 20,
     "metadata": {},
     "output_type": "execute_result"
    }
   ],
   "source": [
    "b = np.full(3, 5, dtype = float)\n",
    "b\n"
   ]
  },
  {
   "cell_type": "code",
   "execution_count": 21,
   "id": "6bf07511",
   "metadata": {},
   "outputs": [
    {
     "data": {
      "text/plain": [
       "array([[5, 5, 5, 5],\n",
       "       [5, 5, 5, 5],\n",
       "       [5, 5, 5, 5]])"
      ]
     },
     "execution_count": 21,
     "metadata": {},
     "output_type": "execute_result"
    }
   ],
   "source": [
    "b = np.full((3,4), 5)\n",
    "b"
   ]
  },
  {
   "cell_type": "markdown",
   "id": "91aba82e",
   "metadata": {},
   "source": [
    "### Q. Create an integer array of size 10, where all the values should be 0 but the fifth value be 1."
   ]
  },
  {
   "cell_type": "code",
   "execution_count": 22,
   "id": "ee237836",
   "metadata": {},
   "outputs": [
    {
     "name": "stdout",
     "output_type": "stream",
     "text": [
      "[0. 0. 0. 0. 0. 0. 0. 0. 0. 0.]\n",
      "[0. 0. 0. 0. 0. 1. 0. 0. 0. 0.]\n"
     ]
    }
   ],
   "source": [
    "import numpy as np\n",
    "x = np.zeros(10)\n",
    "print(x)\n",
    "x[5] = 1\n",
    "print(x)"
   ]
  },
  {
   "cell_type": "markdown",
   "id": "1ce2f3a1",
   "metadata": {},
   "source": [
    "## numpy.arange\n",
    "#### numpy.arange([start, ]stop, [step, ]dtype=None)\n",
    "\n",
    "Return evenly spaced values within a given interval. Values are generated within the half-open interval [start, stop).\n",
    "\n",
    "For integer arguments the function is equivalent to the Python built-in range function, but returns an ndarray rather than a list. When using a non-integer step, such as 0.1, the results will often not be consistent. It is better to use numpy.linspace for these cases.\n",
    "\n",
    "### Parameters\n",
    "\n",
    "#### start : number, optional\n",
    "\n",
    "Start of interval. The interval includes this value. The default start value is 0.\n",
    "\n",
    "#### stop : number\n",
    "\n",
    "End of interval. The interval does not include this value, except in some cases where step is not an integer and floating point round-off affects the length of out.\n",
    "\n",
    "#### step : number, optional\n",
    "\n",
    "Spacing between values. For any output out, this is the distance between two adjacent values, out[i+1] - out[i]. The default step size is 1. If step is specified as a position argument, start must also be given.\n",
    "\n",
    "#### dtype : dtype\n",
    "\n",
    "The type of the output array. If dtype is not given, infer the data type from the other input arguments.\n",
    "\n",
    "#### Returns\n",
    "\n",
    "#### arange : ndarray\n",
    "\n",
    "Array of evenly spaced values.\n",
    "\n",
    "For floating point arguments, the length of the result is ceil((stop - start)/step). Because of floating point overflow, this rule may result in the last element of out being greater than stop."
   ]
  },
  {
   "cell_type": "code",
   "execution_count": null,
   "id": "f99739d8",
   "metadata": {},
   "outputs": [],
   "source": []
  }
 ],
 "metadata": {
  "kernelspec": {
   "display_name": "Python 3",
   "language": "python",
   "name": "python3"
  },
  "language_info": {
   "codemirror_mode": {
    "name": "ipython",
    "version": 3
   },
   "file_extension": ".py",
   "mimetype": "text/x-python",
   "name": "python",
   "nbconvert_exporter": "python",
   "pygments_lexer": "ipython3",
   "version": "3.8.8"
  }
 },
 "nbformat": 4,
 "nbformat_minor": 5
}
