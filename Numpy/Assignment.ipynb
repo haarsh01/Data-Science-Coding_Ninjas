{
 "cells": [
  {
   "cell_type": "markdown",
   "id": "2f315a0a",
   "metadata": {},
   "source": [
    "### Practice Problem on Numpy"
   ]
  },
  {
   "cell_type": "markdown",
   "id": "e4c47274",
   "metadata": {},
   "source": [
    "#### Prob 1: Numpy 2D Array\n",
    "Problem Statement:\n",
    "GIven a 2D list, create a numpy 2D array using it.\n",
    "Note: Given 2D list is [[1, 2, 3], [4, 5, 6], [7, 8, 9]]\n",
    "Print the Numpy array."
   ]
  },
  {
   "cell_type": "code",
   "execution_count": 1,
   "id": "583a0f64",
   "metadata": {},
   "outputs": [
    {
     "name": "stdout",
     "output_type": "stream",
     "text": [
      "[[1 2 3]\n",
      " [4 5 6]\n",
      " [7 8 9]]\n"
     ]
    }
   ],
   "source": [
    "import numpy as np\n",
    "list_2d = [[1,2,3],[4,5,6],[7,8,9]]\n",
    "arr = np.array(list_2d)\n",
    "print(arr)\n",
    "    \n",
    "    "
   ]
  },
  {
   "cell_type": "markdown",
   "id": "e5e99b09",
   "metadata": {},
   "source": [
    "#### Problem-2 : NumPy 0s and 1s\n",
    "Problem Statement:\n",
    "Create an integer array of size 10, where all the values should be 0 but the fifth value should be 1. Print the elements of array."
   ]
  },
  {
   "cell_type": "code",
   "execution_count": 2,
   "id": "bee21b40",
   "metadata": {},
   "outputs": [
    {
     "name": "stdout",
     "output_type": "stream",
     "text": [
      "[0 0 0 0 1 0 0 0 0 0]\n"
     ]
    }
   ],
   "source": [
    "arr = np.zeros(10, dtype=int)\n",
    "arr[4] =1\n",
    "print(arr)"
   ]
  },
  {
   "cell_type": "markdown",
   "id": "bcbeff7f",
   "metadata": {},
   "source": [
    "#### Problem-3 : NumPy Inclusive\n",
    "Problem Statement:\n",
    "Create an array with values ranging consecutively from 9 to 49 (both inclusive).\n",
    "Print the Numpy array."
   ]
  },
  {
   "cell_type": "code",
   "execution_count": 8,
   "id": "33e9c828",
   "metadata": {},
   "outputs": [
    {
     "name": "stdout",
     "output_type": "stream",
     "text": [
      "[ 9 10 11 12 13 14 15 16 17 18 19 20 21 22 23 24 25 26 27 28 29 30 31 32\n",
      " 33 34 35 36 37 38 39 40 41 42 43 44 45 46 47 48 49]\n"
     ]
    }
   ],
   "source": [
    "\n",
    "arr = np.arange(9,50)\n",
    "print(arr)"
   ]
  },
  {
   "cell_type": "markdown",
   "id": "6057bb52",
   "metadata": {},
   "source": [
    "####  Problem-4 : Identity Matrix\n",
    "Problem Statement:\n",
    "Create an integer identity matrix of size (5, 6).\n",
    "Print the Numpy array"
   ]
  },
  {
   "cell_type": "code",
   "execution_count": 9,
   "id": "88833ee6",
   "metadata": {},
   "outputs": [
    {
     "name": "stdout",
     "output_type": "stream",
     "text": [
      "[[1 0 0 0 0 0]\n",
      " [0 1 0 0 0 0]\n",
      " [0 0 1 0 0 0]\n",
      " [0 0 0 1 0 0]\n",
      " [0 0 0 0 1 0]]\n"
     ]
    }
   ],
   "source": [
    "arr = np.eye(5,6,dtype=int)\n",
    "print(arr)"
   ]
  },
  {
   "cell_type": "markdown",
   "id": "6d3d821f",
   "metadata": {},
   "source": [
    "#### Problem-5 : Cut the Rope\n",
    "Problem Statement:\n",
    "You are given a rope of length 5m. Cut the rope into 9 parts such that each part is of equal length.\n",
    "Note:Array elements are the points where cut is to be made and round upto 2 decimal place.\n",
    "Print the array element."
   ]
  },
  {
   "cell_type": "code",
   "execution_count": 11,
   "id": "39ae5944",
   "metadata": {},
   "outputs": [
    {
     "name": "stdout",
     "output_type": "stream",
     "text": [
      "[0.         0.55555556 1.11111111 1.66666667 2.22222222 2.77777778\n",
      " 3.33333333 3.88888889 4.44444444 5.        ]\n",
      "0.56\n",
      "1.11\n",
      "1.67\n",
      "2.22\n",
      "2.78\n",
      "3.33\n",
      "3.89\n",
      "4.44\n"
     ]
    }
   ],
   "source": [
    "arr = np.linspace(0,5,10)\n",
    "print(arr)\n",
    "for i in range(1, len(arr) - 1):\n",
    "    print(round(arr[i],2))"
   ]
  },
  {
   "cell_type": "code",
   "execution_count": null,
   "id": "37fc1dca",
   "metadata": {},
   "outputs": [],
   "source": []
  }
 ],
 "metadata": {
  "kernelspec": {
   "display_name": "Python 3",
   "language": "python",
   "name": "python3"
  },
  "language_info": {
   "codemirror_mode": {
    "name": "ipython",
    "version": 3
   },
   "file_extension": ".py",
   "mimetype": "text/x-python",
   "name": "python",
   "nbconvert_exporter": "python",
   "pygments_lexer": "ipython3",
   "version": "3.8.8"
  }
 },
 "nbformat": 4,
 "nbformat_minor": 5
}
