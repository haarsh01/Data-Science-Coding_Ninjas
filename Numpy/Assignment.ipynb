{
 "cells": [
  {
   "cell_type": "markdown",
   "id": "2f315a0a",
   "metadata": {},
   "source": [
    "### Practice Problem on Numpy"
   ]
  },
  {
   "cell_type": "markdown",
   "id": "e4c47274",
   "metadata": {},
   "source": [
    "#### Prob 1: Numpy 2D Array\n",
    "Problem Statement:\n",
    "GIven a 2D list, create a numpy 2D array using it.\n",
    "Note: Given 2D list is [[1, 2, 3], [4, 5, 6], [7, 8, 9]]\n",
    "Print the Numpy array."
   ]
  },
  {
   "cell_type": "code",
   "execution_count": 1,
   "id": "583a0f64",
   "metadata": {},
   "outputs": [
    {
     "name": "stdout",
     "output_type": "stream",
     "text": [
      "[[1 2 3]\n",
      " [4 5 6]\n",
      " [7 8 9]]\n"
     ]
    }
   ],
   "source": [
    "import numpy as np\n",
    "list_2d = [[1,2,3],[4,5,6],[7,8,9]]\n",
    "arr = np.array(list_2d)\n",
    "print(arr)\n",
    "    \n",
    "    "
   ]
  },
  {
   "cell_type": "markdown",
   "id": "e5e99b09",
   "metadata": {},
   "source": [
    "#### Problem-2 : NumPy 0s and 1s\n",
    "Problem Statement:\n",
    "Create an integer array of size 10, where all the values should be 0 but the fifth value should be 1. Print the elements of array."
   ]
  },
  {
   "cell_type": "code",
   "execution_count": 2,
   "id": "bee21b40",
   "metadata": {},
   "outputs": [
    {
     "name": "stdout",
     "output_type": "stream",
     "text": [
      "[0 0 0 0 1 0 0 0 0 0]\n"
     ]
    }
   ],
   "source": [
    "arr = np.zeros(10, dtype=int)\n",
    "arr[4] =1\n",
    "print(arr)"
   ]
  },
  {
   "cell_type": "markdown",
   "id": "bcbeff7f",
   "metadata": {},
   "source": [
    "#### Problem-3 : NumPy Inclusive\n",
    "Problem Statement:\n",
    "Create an array with values ranging consecutively from 9 to 49 (both inclusive).\n",
    "Print the Numpy array."
   ]
  },
  {
   "cell_type": "code",
   "execution_count": 8,
   "id": "33e9c828",
   "metadata": {},
   "outputs": [
    {
     "name": "stdout",
     "output_type": "stream",
     "text": [
      "[ 9 10 11 12 13 14 15 16 17 18 19 20 21 22 23 24 25 26 27 28 29 30 31 32\n",
      " 33 34 35 36 37 38 39 40 41 42 43 44 45 46 47 48 49]\n"
     ]
    }
   ],
   "source": [
    "\n",
    "arr = np.arange(9,50)\n",
    "print(arr)"
   ]
  },
  {
   "cell_type": "markdown",
   "id": "6057bb52",
   "metadata": {},
   "source": [
    "####  Problem-4 : Identity Matrix\n",
    "Problem Statement:\n",
    "Create an integer identity matrix of size (5, 6).\n",
    "Print the Numpy array"
   ]
  },
  {
   "cell_type": "code",
   "execution_count": 9,
   "id": "88833ee6",
   "metadata": {},
   "outputs": [
    {
     "name": "stdout",
     "output_type": "stream",
     "text": [
      "[[1 0 0 0 0 0]\n",
      " [0 1 0 0 0 0]\n",
      " [0 0 1 0 0 0]\n",
      " [0 0 0 1 0 0]\n",
      " [0 0 0 0 1 0]]\n"
     ]
    }
   ],
   "source": [
    "arr = np.eye(5,6,dtype=int)\n",
    "print(arr)"
   ]
  },
  {
   "cell_type": "markdown",
   "id": "6d3d821f",
   "metadata": {},
   "source": [
    "#### Problem-5 : Cut the Rope\n",
    "Problem Statement:\n",
    "You are given a rope of length 5m. Cut the rope into 9 parts such that each part is of equal length.\n",
    "Note:Array elements are the points where cut is to be made and round upto 2 decimal place.\n",
    "Print the array element."
   ]
  },
  {
   "cell_type": "code",
   "execution_count": 11,
   "id": "39ae5944",
   "metadata": {},
   "outputs": [
    {
     "name": "stdout",
     "output_type": "stream",
     "text": [
      "[0.         0.55555556 1.11111111 1.66666667 2.22222222 2.77777778\n",
      " 3.33333333 3.88888889 4.44444444 5.        ]\n",
      "0.56\n",
      "1.11\n",
      "1.67\n",
      "2.22\n",
      "2.78\n",
      "3.33\n",
      "3.89\n",
      "4.44\n"
     ]
    }
   ],
   "source": [
    "arr = np.linspace(0,5,10)\n",
    "print(arr)\n",
    "for i in range(1, len(arr) - 1):\n",
    "    print(round(arr[i],2))"
   ]
  },
  {
   "cell_type": "markdown",
   "id": "911880cb",
   "metadata": {},
   "source": [
    "#### Problem-7 : Non-Zero elements¶\n",
    "Problem Statemnt:\n",
    "Find indices of non-zero elements from the array [1,2,0,0,4,0] ?\n",
    "Print the index of non-zero elements."
   ]
  },
  {
   "cell_type": "code",
   "execution_count": 2,
   "id": "e17c3155",
   "metadata": {},
   "outputs": [
    {
     "name": "stdout",
     "output_type": "stream",
     "text": [
      "[0 1 4]\n"
     ]
    }
   ],
   "source": [
    "arr = np.array([1,2,0,0,4,0])\n",
    "ind = np.where(arr != 0)\n",
    "print(ind[0])\n"
   ]
  },
  {
   "cell_type": "markdown",
   "id": "99f7d0d7",
   "metadata": {},
   "source": [
    "#### Problem-8 : Multiples of 3\n",
    "Problem Statement:\n",
    "Given an integer array of size 10. Print the index of elements which are multiple of 3.\n",
    "Note: Generate the following array array([1,3, 5, 7, 9, 11, 13, 15, 17, 19])\n",
    "Print the index of elements."
   ]
  },
  {
   "cell_type": "code",
   "execution_count": 3,
   "id": "44457b28",
   "metadata": {},
   "outputs": [
    {
     "name": "stdout",
     "output_type": "stream",
     "text": [
      "[1 4 7]\n"
     ]
    }
   ],
   "source": [
    "arr = np.arange(1,20,2)\n",
    "ind = np.where(arr%3 == 0)\n",
    "print(ind[0])"
   ]
  },
  {
   "cell_type": "markdown",
   "id": "e5d78c27",
   "metadata": {},
   "source": [
    "#### Problem-9 : Odd elements\n",
    "Problem Statemnt:\n",
    "Given an integer array of size 10. Replace the odd number in numpy array with -1 ?\n",
    "Note: Generate the following array\n",
    "array([1, 2, 3, 4, 5, 6, 7, 8, 9, 10])\n",
    "Print the Numpy array."
   ]
  },
  {
   "cell_type": "code",
   "execution_count": 4,
   "id": "1f8116d5",
   "metadata": {},
   "outputs": [
    {
     "name": "stdout",
     "output_type": "stream",
     "text": [
      "[-1  2 -1  4 -1  6 -1  8 -1 10]\n"
     ]
    }
   ],
   "source": [
    "arr = np.arange(1,11)\n",
    "arr[arr % 2 != 0] = -1\n",
    "print(arr)"
   ]
  },
  {
   "cell_type": "markdown",
   "id": "6e758724",
   "metadata": {},
   "source": [
    "#### Problem-10 : Replace Max\n",
    "Problem Statemnt:\n",
    "Given an integer array of size 10 and replace the first occurrence of maximum value by 0?\n",
    "Note: Generate the following array\n",
    "array([11, 2, 13, 4, 15, 6, 27, 8, 19])\n",
    "Print the Numpy array."
   ]
  },
  {
   "cell_type": "code",
   "execution_count": 5,
   "id": "2a9c477b",
   "metadata": {},
   "outputs": [
    {
     "name": "stdout",
     "output_type": "stream",
     "text": [
      "11\n",
      "2\n",
      "13\n",
      "4\n",
      "15\n",
      "6\n",
      "0\n",
      "8\n",
      "19\n"
     ]
    }
   ],
   "source": [
    "arr = np.array([11,2,13,4,15,6,27,8,19])\n",
    "arr[arr.argmax()] = 0\n",
    "for i in arr :\n",
    "    print(i)"
   ]
  },
  {
   "cell_type": "markdown",
   "id": "262b3bba",
   "metadata": {},
   "source": [
    "#### Problem-11 : Negate Elements\n",
    "Problem Statemnt:\n",
    "Given a 1D array, negate all elements which are between 3 and 8 (both inclusive)?\n",
    "Note: Generate the following array\n",
    "array([1, 2, 3, 4, 5, 6, 7, 8, 9, 10])\n",
    "Print the Numpy array."
   ]
  },
  {
   "cell_type": "code",
   "execution_count": 6,
   "id": "1069efb3",
   "metadata": {},
   "outputs": [
    {
     "name": "stdout",
     "output_type": "stream",
     "text": [
      "1\n",
      "2\n",
      "-3\n",
      "-4\n",
      "-5\n",
      "-6\n",
      "-7\n",
      "-8\n",
      "9\n",
      "10\n"
     ]
    }
   ],
   "source": [
    "arr = np.arange(1,11)\n",
    "arr[2:8] = np.multiply(arr[2:8], -1)\n",
    "for i in arr :\n",
    "    print(i)"
   ]
  },
  {
   "cell_type": "markdown",
   "id": "f15398a8",
   "metadata": {},
   "source": [
    "#### Problem-12 : Height\n",
    "Problem Statemnt:\n",
    "Given age and height of 20 students in two different numpy arrays with name age and height (in cms). Print the age of those students whose height is above 155 cm. Print the Numpy array."
   ]
  },
  {
   "cell_type": "code",
   "execution_count": 8,
   "id": "391fc384",
   "metadata": {},
   "outputs": [
    {
     "name": "stdout",
     "output_type": "stream",
     "text": [
      "15 156\n",
      "19 180\n",
      "20 162\n",
      "21 157\n",
      "22 158\n",
      "23 179\n",
      "16 182\n",
      "18 183\n",
      "20 159\n",
      "15 160\n",
      "17 172\n"
     ]
    }
   ],
   "source": [
    "age = np.array([15,17,19,20,14,21,16,19,13,20,22,23,21,16,18,19,20,15,17,18])\n",
    "height = np.array([156,144,180,162,152,157,154,155,151,150,158,179,126,182,183,154,159,160,172,149])\n",
    "index = np.where(height > 155)\n",
    "for i in range(len(index[0])) :\n",
    "    print(age[index[0][i]], height[index[0][i]])"
   ]
  },
  {
   "cell_type": "markdown",
   "id": "9ea08b91",
   "metadata": {},
   "source": [
    "#### Problem-13 : Sort by column\n",
    "Problem Statemnt:\n",
    "Sort a given 2D array of shape (4, 5) by 2nd column (i.e. column at index 1) in ascending order.\n",
    "That means, we should re-arrange complete row based on 2nd columns' values.\n",
    "Given 2D array is:\n",
    "[[21 20 19 18 17]\n",
    "[16 15 14 13 12]\n",
    "[11 10 9 8 7]\n",
    "[ 6 5 4 3 2]]\n",
    "Print the 2D array in sorted order.\n",
    "Note you have to generate the 2D Array.Here 2nd column means column present at index 1"
   ]
  },
  {
   "cell_type": "code",
   "execution_count": 9,
   "id": "707a4956",
   "metadata": {},
   "outputs": [
    {
     "name": "stdout",
     "output_type": "stream",
     "text": [
      "[[ 6  5  4  3  2]\n",
      " [11 10  9  8  7]\n",
      " [16 15 14 13 12]\n",
      " [21 20 19 18 17]]\n"
     ]
    }
   ],
   "source": [
    "arr = np.arange(21,1,-1)\n",
    "arr = arr.reshape(4,5)\n",
    "print(arr[::-1])"
   ]
  },
  {
   "cell_type": "markdown",
   "id": "d8228136",
   "metadata": {},
   "source": [
    "#### Problem - 14 Killed in USA"
   ]
  },
  {
   "cell_type": "markdown",
   "id": "7d8e2c60",
   "metadata": {},
   "source": [
    "### Assignment\n",
    "Given file \"terrorismData.csv\" It is an open-source database including information on terrorist attacks around the world from 1970 through 2017. This dataset includes systematic data on domestic as well as international terrorist incidents that have occurred during this time period"
   ]
  },
  {
   "cell_type": "markdown",
   "id": "d874dcfa",
   "metadata": {},
   "source": [
    "#### Problem-1 : Terrorism Day\n",
    "Problem Statement :\n",
    "Find the number of attack held between day 10 and day 20?(ignoring the year and month)(including both day)\n",
    "Print count of NumberOFAttack as integer value."
   ]
  },
  {
   "cell_type": "code",
   "execution_count": 7,
   "id": "7d0ac8e8",
   "metadata": {},
   "outputs": [
    {
     "ename": "FileNotFoundError",
     "evalue": "[Errno 2] No such file or directory: 'terrorismData.csv'",
     "output_type": "error",
     "traceback": [
      "\u001b[1;31m---------------------------------------------------------------------------\u001b[0m",
      "\u001b[1;31mFileNotFoundError\u001b[0m                         Traceback (most recent call last)",
      "\u001b[1;32m<ipython-input-7-9d425ceab397>\u001b[0m in \u001b[0;36m<module>\u001b[1;34m\u001b[0m\n\u001b[1;32m----> 1\u001b[1;33m \u001b[0mfile_obj\u001b[0m \u001b[1;33m=\u001b[0m \u001b[0mopen\u001b[0m\u001b[1;33m(\u001b[0m\u001b[1;34m'terrorismData.csv'\u001b[0m\u001b[1;33m)\u001b[0m\u001b[1;33m\u001b[0m\u001b[1;33m\u001b[0m\u001b[0m\n\u001b[0m\u001b[0;32m      2\u001b[0m \u001b[0mfie_data\u001b[0m \u001b[1;33m=\u001b[0m \u001b[0mfile_obj\u001b[0m\u001b[1;33m.\u001b[0m\u001b[0mread\u001b[0m\u001b[1;33m(\u001b[0m\u001b[1;36m100\u001b[0m\u001b[1;33m)\u001b[0m\u001b[1;33m\u001b[0m\u001b[1;33m\u001b[0m\u001b[0m\n\u001b[0;32m      3\u001b[0m \u001b[0mfie_data\u001b[0m\u001b[1;33m\u001b[0m\u001b[1;33m\u001b[0m\u001b[0m\n",
      "\u001b[1;31mFileNotFoundError\u001b[0m: [Errno 2] No such file or directory: 'terrorismData.csv'"
     ]
    }
   ],
   "source": [
    "file_obj = open('terrorismData.csv')\n",
    "fie_data = file_obj.read(100)\n",
    "fie_data"
   ]
  },
  {
   "cell_type": "code",
   "execution_count": null,
   "id": "4ff50532",
   "metadata": {},
   "outputs": [],
   "source": []
  },
  {
   "cell_type": "code",
   "execution_count": null,
   "id": "c32688bf",
   "metadata": {},
   "outputs": [],
   "source": []
  },
  {
   "cell_type": "code",
   "execution_count": null,
   "id": "98bb0522",
   "metadata": {},
   "outputs": [],
   "source": []
  },
  {
   "cell_type": "code",
   "execution_count": null,
   "id": "a6783163",
   "metadata": {},
   "outputs": [],
   "source": []
  },
  {
   "cell_type": "code",
   "execution_count": null,
   "id": "292aa310",
   "metadata": {},
   "outputs": [],
   "source": []
  },
  {
   "cell_type": "code",
   "execution_count": null,
   "id": "68d83580",
   "metadata": {},
   "outputs": [],
   "source": []
  }
 ],
 "metadata": {
  "kernelspec": {
   "display_name": "Python 3",
   "language": "python",
   "name": "python3"
  },
  "language_info": {
   "codemirror_mode": {
    "name": "ipython",
    "version": 3
   },
   "file_extension": ".py",
   "mimetype": "text/x-python",
   "name": "python",
   "nbconvert_exporter": "python",
   "pygments_lexer": "ipython3",
   "version": "3.8.8"
  }
 },
 "nbformat": 4,
 "nbformat_minor": 5
}
