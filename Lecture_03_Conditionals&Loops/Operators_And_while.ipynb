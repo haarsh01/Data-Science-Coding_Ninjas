{
 "cells": [
  {
   "cell_type": "code",
   "execution_count": 1,
   "metadata": {
    "collapsed": true
   },
   "outputs": [
    {
     "data": {
      "text/plain": [
       "'Ninjas'"
      ]
     },
     "execution_count": 1,
     "metadata": {},
     "output_type": "execute_result"
    }
   ],
   "source": [
    "a = True # Small t 'true' is not defined\n",
    "b = False\n",
    "\n",
    "c = \"Ninjas\"\n",
    "c"
   ]
  },
  {
   "cell_type": "code",
   "execution_count": 2,
   "metadata": {},
   "outputs": [
    {
     "data": {
      "text/plain": [
       "bool"
      ]
     },
     "execution_count": 2,
     "metadata": {},
     "output_type": "execute_result"
    }
   ],
   "source": [
    "c = True\n",
    "type(c)"
   ]
  },
  {
   "cell_type": "markdown",
   "metadata": {},
   "source": [
    "### Relational Operators"
   ]
  },
  {
   "cell_type": "code",
   "execution_count": 3,
   "metadata": {},
   "outputs": [
    {
     "data": {
      "text/plain": [
       "False"
      ]
     },
     "execution_count": 3,
     "metadata": {},
     "output_type": "execute_result"
    }
   ],
   "source": [
    "a = 10\n",
    "b = 20\n",
    "a > b"
   ]
  },
  {
   "cell_type": "code",
   "execution_count": 4,
   "metadata": {},
   "outputs": [
    {
     "name": "stdout",
     "output_type": "stream",
     "text": [
      "False\n",
      "True\n",
      "False\n",
      "True\n",
      "False\n",
      "True\n"
     ]
    }
   ],
   "source": [
    "print(a > b)\n",
    "print(a < b)\n",
    "print(a >= b)\n",
    "print(a <= b)\n",
    "print(a == b)\n",
    "print(a != b)"
   ]
  },
  {
   "cell_type": "markdown",
   "metadata": {},
   "source": [
    "### Logical Operations"
   ]
  },
  {
   "cell_type": "code",
   "execution_count": 5,
   "metadata": {},
   "outputs": [
    {
     "data": {
      "text/plain": [
       "False"
      ]
     },
     "execution_count": 5,
     "metadata": {},
     "output_type": "execute_result"
    }
   ],
   "source": [
    "# Used to combine multiple Booleans\n",
    "\n",
    "c1 = a > 10\n",
    "c2 = b > 10\n",
    "c1 and c2"
   ]
  },
  {
   "cell_type": "code",
   "execution_count": 6,
   "metadata": {},
   "outputs": [
    {
     "name": "stdout",
     "output_type": "stream",
     "text": [
      "False\n",
      "True\n",
      "True\n"
     ]
    }
   ],
   "source": [
    "r1 = c1 and c2\n",
    "r2 = c1 or c2\n",
    "r3 = not(c1)\n",
    "print (r1)\n",
    "print (r2)\n",
    "print (r3)"
   ]
  },
  {
   "cell_type": "markdown",
   "metadata": {},
   "source": [
    "### IF ELSE\n",
    "\n"
   ]
  },
  {
   "cell_type": "code",
   "execution_count": 7,
   "metadata": {},
   "outputs": [
    {
     "name": "stdout",
     "output_type": "stream",
     "text": [
      "I am inside if\n"
     ]
    }
   ],
   "source": [
    "a = True\n",
    "\n",
    "if a: \n",
    "    print (\"I am inside if\")\n",
    "    \n",
    "else:\n",
    "    print(\"I am in else\")"
   ]
  },
  {
   "cell_type": "code",
   "execution_count": 8,
   "metadata": {},
   "outputs": [
    {
     "name": "stdout",
     "output_type": "stream",
     "text": [
      "I am in else\n"
     ]
    }
   ],
   "source": [
    "a = False\n",
    "\n",
    "if a: \n",
    "    print (\"I am inside if\")\n",
    "    \n",
    "else:\n",
    "    print(\"I am in else\")"
   ]
  },
  {
   "cell_type": "code",
   "execution_count": 9,
   "metadata": {},
   "outputs": [
    {
     "name": "stdout",
     "output_type": "stream",
     "text": [
      "13\n",
      "n is odd\n"
     ]
    }
   ],
   "source": [
    "# check number to be even or odd\n",
    "n = int(input())\n",
    "r = n % 2\n",
    "is_even = (r == 0)\n",
    "\n",
    "if is_even:\n",
    "    print(\"n is even\")\n",
    "    \n",
    "else:\n",
    "    print(\"n is odd\")"
   ]
  },
  {
   "cell_type": "code",
   "execution_count": 10,
   "metadata": {},
   "outputs": [
    {
     "name": "stdout",
     "output_type": "stream",
     "text": [
      "13\n",
      "n is odd\n"
     ]
    }
   ],
   "source": [
    "n = int(input())\n",
    "\n",
    "if n % 2 == 0:\n",
    "    print(\"n is even\")\n",
    "    \n",
    "else:\n",
    "    print(\"n is odd\")"
   ]
  },
  {
   "cell_type": "code",
   "execution_count": 11,
   "metadata": {},
   "outputs": [
    {
     "name": "stdout",
     "output_type": "stream",
     "text": [
      "14\n",
      "n is even\n"
     ]
    }
   ],
   "source": [
    "n = int(input())\n",
    "\n",
    "if not(n % 2):\n",
    "    print(\"n is even\")\n",
    "    \n",
    "else:\n",
    "    print(\"n is odd\")"
   ]
  },
  {
   "cell_type": "code",
   "execution_count": 12,
   "metadata": {},
   "outputs": [
    {
     "name": "stdout",
     "output_type": "stream",
     "text": [
      "14\n",
      "8\n",
      "No they are not\n"
     ]
    }
   ],
   "source": [
    "a = int(input())\n",
    "b = int(input())\n",
    "\n",
    "c1 = a > 10\n",
    "c2 = b > 10\n",
    "\n",
    "r = c1 and c2\n",
    "\n",
    "if r:\n",
    "    print(\"Both greater than 10\")\n",
    "\n",
    "else:\n",
    "    print(\"No they are not\")"
   ]
  },
  {
   "cell_type": "code",
   "execution_count": 13,
   "metadata": {},
   "outputs": [
    {
     "name": "stdout",
     "output_type": "stream",
     "text": [
      "14\n",
      "145\n",
      "Both greater than 10\n"
     ]
    }
   ],
   "source": [
    "a = int(input())\n",
    "b = int(input())\n",
    "\n",
    "\n",
    "if a>10 and b>10:\n",
    "    print(\"Both greater than 10\")\n",
    "\n",
    "else:\n",
    "    print(\"No they are not\")"
   ]
  },
  {
   "cell_type": "code",
   "execution_count": 14,
   "metadata": {},
   "outputs": [
    {
     "name": "stdout",
     "output_type": "stream",
     "text": [
      "7\n",
      "It is 7\n"
     ]
    }
   ],
   "source": [
    "a = int(input())\n",
    "\n",
    "if a == 7:\n",
    "    print(\"It is 7\")\n",
    "    \n",
    "else:\n",
    "    print(\"No its not 7\") "
   ]
  },
  {
   "cell_type": "code",
   "execution_count": 15,
   "metadata": {},
   "outputs": [
    {
     "name": "stdout",
     "output_type": "stream",
     "text": [
      "8\n",
      "No its not 7\n"
     ]
    }
   ],
   "source": [
    "a = int(input())\n",
    "\n",
    "if a != 7:\n",
    "    print(\"No its not 7\")\n",
    "    \n",
    "else:\n",
    "    print(\"It is 7\")"
   ]
  },
  {
   "cell_type": "markdown",
   "metadata": {},
   "source": [
    "### ELIF"
   ]
  },
  {
   "cell_type": "code",
   "execution_count": 16,
   "metadata": {},
   "outputs": [
    {
     "name": "stdout",
     "output_type": "stream",
     "text": [
      "3\n",
      "3\n",
      "1\n",
      "1\n"
     ]
    }
   ],
   "source": [
    "a = int(input())\n",
    "b = int(input())\n",
    "c = int(input())\n",
    "\n",
    "if a > b and a > c:\n",
    "    print(a)\n",
    "    \n",
    "elif b > a and b > c:\n",
    "    print(b)\n",
    "\n",
    "else:\n",
    "    print(c) # Would give wrong answer for 3, 3, 1 input"
   ]
  },
  {
   "cell_type": "code",
   "execution_count": 17,
   "metadata": {},
   "outputs": [
    {
     "name": "stdout",
     "output_type": "stream",
     "text": [
      "14\n",
      "34\n",
      "24\n",
      "34\n"
     ]
    }
   ],
   "source": [
    "#Correct Code\n",
    "a = int(input())\n",
    "b = int(input())\n",
    "c = int(input())\n",
    "\n",
    "if a >= b and a >= c:\n",
    "    print(a)\n",
    "    \n",
    "elif b >= a and b >= c:\n",
    "    print(b)\n",
    "\n",
    "else:\n",
    "    print(c)"
   ]
  },
  {
   "cell_type": "code",
   "execution_count": 18,
   "metadata": {},
   "outputs": [
    {
     "name": "stdout",
     "output_type": "stream",
     "text": [
      "7\n",
      "green\n"
     ]
    }
   ],
   "source": [
    "n = int(input())\n",
    "if n > 10:\n",
    "    print(\"red\")\n",
    "elif n >= 5 and n <= 10:\n",
    "    print(\"green\")\n",
    "elif n > 0 and n < 5:\n",
    "    print(\"yellow\")"
   ]
  },
  {
   "cell_type": "code",
   "execution_count": 19,
   "metadata": {},
   "outputs": [
    {
     "name": "stdout",
     "output_type": "stream",
     "text": [
      "9\n",
      "green\n"
     ]
    }
   ],
   "source": [
    "n = int(input())\n",
    "if n > 10:\n",
    "    print(\"red\")\n",
    "elif n >= 5: # Adding and n <= 10 is redundant\n",
    "    print(\"green\")\n",
    "elif n > 0: # Adding and n < 5 is redundant\n",
    "    print(\"yellow\")"
   ]
  },
  {
   "cell_type": "markdown",
   "metadata": {},
   "source": [
    "### Nested If"
   ]
  },
  {
   "cell_type": "code",
   "execution_count": 20,
   "metadata": {},
   "outputs": [
    {
     "name": "stdout",
     "output_type": "stream",
     "text": [
      "45\n",
      "n is odd\n"
     ]
    }
   ],
   "source": [
    "n = int(input())\n",
    "\n",
    "if n % 2 == 0:\n",
    "    print(\"n is even\")\n",
    "    if n == 0:\n",
    "        print(\"n is zero\")\n",
    "    \n",
    "else:\n",
    "    print(\"n is odd\")"
   ]
  },
  {
   "cell_type": "markdown",
   "metadata": {},
   "source": [
    "### While loops"
   ]
  },
  {
   "cell_type": "code",
   "execution_count": 21,
   "metadata": {},
   "outputs": [
    {
     "name": "stdout",
     "output_type": "stream",
     "text": [
      "4\n",
      "1\n",
      "1\n",
      "1\n",
      "1\n"
     ]
    }
   ],
   "source": [
    "n = int(input())\n",
    "\n",
    "count = 1\n",
    "\n",
    "while count <= n:\n",
    "    print(1)\n",
    "    count += 1"
   ]
  },
  {
   "cell_type": "code",
   "execution_count": 22,
   "metadata": {},
   "outputs": [
    {
     "name": "stdout",
     "output_type": "stream",
     "text": [
      "5\n",
      "1\n",
      "2\n",
      "3\n",
      "4\n",
      "5\n"
     ]
    }
   ],
   "source": [
    "# print first n natural numbers\n",
    "n = int(input())\n",
    "count = 1\n",
    "while count <= n:\n",
    "    print (count)\n",
    "    count += 1"
   ]
  },
  {
   "cell_type": "code",
   "execution_count": 23,
   "metadata": {
    "scrolled": true
   },
   "outputs": [
    {
     "name": "stdout",
     "output_type": "stream",
     "text": [
      "56\n",
      "n is not prime\n"
     ]
    }
   ],
   "source": [
    "# Primality check - Given a number check if it is prime or not\n",
    "\n",
    "n = int(input())\n",
    "d = 2\n",
    "flag = False\n",
    "while d < n:\n",
    "    if n % d == 0:\n",
    "        flag = True\n",
    "    d = d + 1\n",
    "    \n",
    "if flag:\n",
    "    print(\"n is not prime\")\n",
    "\n",
    "else:\n",
    "    print(\"prime\")"
   ]
  },
  {
   "cell_type": "markdown",
   "metadata": {},
   "source": [
    "### Nested Loops (While)"
   ]
  },
  {
   "cell_type": "code",
   "execution_count": 24,
   "metadata": {},
   "outputs": [
    {
     "name": "stdout",
     "output_type": "stream",
     "text": [
      "45\n",
      "2\n",
      "3\n",
      "5\n",
      "7\n",
      "11\n",
      "13\n",
      "17\n",
      "19\n",
      "23\n",
      "29\n",
      "31\n",
      "37\n",
      "41\n",
      "43\n"
     ]
    }
   ],
   "source": [
    "n = int(input())\n",
    "k = 2\n",
    "while k <= n: \n",
    "    d = 2\n",
    "    flag = False\n",
    "    \n",
    "    while d < k:\n",
    "        if k % d == 0:\n",
    "            flag = True\n",
    "        d = d + 1\n",
    "\n",
    "    if not(flag):\n",
    "        print(k)\n",
    "\n",
    "    \n",
    "    k = k + 1"
   ]
  }
 ],
 "metadata": {
  "kernelspec": {
   "display_name": "Python 3",
   "language": "python",
   "name": "python3"
  },
  "language_info": {
   "codemirror_mode": {
    "name": "ipython",
    "version": 3
   },
   "file_extension": ".py",
   "mimetype": "text/x-python",
   "name": "python",
   "nbconvert_exporter": "python",
   "pygments_lexer": "ipython3",
   "version": "3.6.8"
  }
 },
 "nbformat": 4,
 "nbformat_minor": 2
}
